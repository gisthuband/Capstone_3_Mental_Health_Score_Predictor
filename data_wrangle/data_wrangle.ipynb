{
 "cells": [
  {
   "cell_type": "markdown",
   "id": "b7e2d1c8",
   "metadata": {},
   "source": [
    "# This project will be dedicated to the analysis of mental health as it relates to unemployment and race/ethnicity in the US.\n",
    "\n",
    "The goal of this model is to predict how much mental health will be impacted in the case of an extreme economic/health crisis, such as the COVID-19 pandemic.  Because of systemic racism, often non-white (white being the majority in the population as of 2024) races in the USA will be prevented from access to resources, one of those being mental health resources.  Mental health is a vital to existence, and is an avenue of life that should not be ignored or mistreated.  Having poor mental health is commonly associated with many travesties: such as suicude, drug addiction, bullying, homicide, and many more.  Thus it is important that every human being has education and access to tools that can help remedy down swings in mental health.\n",
    "\n",
    "Important resources for mental health can be very basic: do you have enough food, nutrients, water, sleep, clean air, clean water, etc.  Other mental health resources can take place as talk therapy, exercise, or medication guided by psychiatry.  All of these things that are remedies for poor mental health require money or time, and if you do not have either or those and are facing severe stress or a crisis, there is a high chance your mental health is at risk.\n",
    "\n",
    "It is not only the government's responsibility but also the private industries that are dependent on current labor and the labor of tomorrow, to ensure that the people are nurtured.  The people pay their sweat and tears to these institutions either in man hours or taxes or both, and they deserve to have a balanced transaction, where their health can be accomodated for, which includes mental health.  \n",
    "\n",
    "Therefore, this data wrangling will hope to uncover some useful information that will see how economic crises impact different racial/ethnic groups differently in times of crisis.  This kind of information will be useful in resource distribution from institutions (i.e. preparing food/water delivery routes to large at risk communities; preparing talk sessions/literature to be parsed out in times of need; preparing emotional intelligence counseling for interpersonal violence, social or physical; preparing narcan, methadone, nicotine patches, or other forms of care for addictions services; etc.).\n",
    "\n",
    "\n",
    "\n",
    "\n",
    "Inputs: unemployment rates, racial/ethnic identity, time \n",
    "\n",
    "Outputs: mental health scores\n",
    "\n",
    "\n",
    "# In this notebook I will:\n",
    "\n",
    "1.) Open and examine the mental health surveys\n",
    "\n",
    "2.) Open and examine the unemployment information from three separate files (these are merged into one)\n",
    "\n",
    "3.) Merge all relevant data together"
   ]
  },
  {
   "cell_type": "markdown",
   "id": "7388d710",
   "metadata": {},
   "source": [
    "## Imports"
   ]
  },
  {
   "cell_type": "code",
   "execution_count": 1,
   "id": "79ff0afe",
   "metadata": {},
   "outputs": [],
   "source": [
    "import pandas as pd\n",
    "import numpy as np\n",
    "import matplotlib.pyplot as plt\n",
    "import seaborn as sns"
   ]
  },
  {
   "cell_type": "markdown",
   "id": "69407598",
   "metadata": {},
   "source": [
    "# 1.) Open Mental Health Survey Data"
   ]
  },
  {
   "cell_type": "code",
   "execution_count": 2,
   "id": "144bd517",
   "metadata": {},
   "outputs": [],
   "source": [
    "mh = pd.read_csv('Indicators_of_Anxiety_or_Depression_Based_on_Reported_Frequency_of_Symptoms_During_Last_7_Days.csv')"
   ]
  },
  {
   "cell_type": "code",
   "execution_count": 3,
   "id": "e836c6f0",
   "metadata": {},
   "outputs": [
    {
     "data": {
      "text/html": [
       "<div>\n",
       "<style scoped>\n",
       "    .dataframe tbody tr th:only-of-type {\n",
       "        vertical-align: middle;\n",
       "    }\n",
       "\n",
       "    .dataframe tbody tr th {\n",
       "        vertical-align: top;\n",
       "    }\n",
       "\n",
       "    .dataframe thead th {\n",
       "        text-align: right;\n",
       "    }\n",
       "</style>\n",
       "<table border=\"1\" class=\"dataframe\">\n",
       "  <thead>\n",
       "    <tr style=\"text-align: right;\">\n",
       "      <th></th>\n",
       "      <th>Indicator</th>\n",
       "      <th>Group</th>\n",
       "      <th>State</th>\n",
       "      <th>Subgroup</th>\n",
       "      <th>Phase</th>\n",
       "      <th>Time Period</th>\n",
       "      <th>Time Period Label</th>\n",
       "      <th>Time Period Start Date</th>\n",
       "      <th>Time Period End Date</th>\n",
       "      <th>Value</th>\n",
       "      <th>Low CI</th>\n",
       "      <th>High CI</th>\n",
       "      <th>Confidence Interval</th>\n",
       "      <th>Quartile Range</th>\n",
       "    </tr>\n",
       "  </thead>\n",
       "  <tbody>\n",
       "    <tr>\n",
       "      <th>0</th>\n",
       "      <td>Symptoms of Depressive Disorder</td>\n",
       "      <td>National Estimate</td>\n",
       "      <td>United States</td>\n",
       "      <td>United States</td>\n",
       "      <td>1</td>\n",
       "      <td>1</td>\n",
       "      <td>Apr 23 - May 5, 2020</td>\n",
       "      <td>04/23/2020</td>\n",
       "      <td>05/05/2020</td>\n",
       "      <td>23.5</td>\n",
       "      <td>22.7</td>\n",
       "      <td>24.3</td>\n",
       "      <td>22.7 - 24.3</td>\n",
       "      <td>NaN</td>\n",
       "    </tr>\n",
       "    <tr>\n",
       "      <th>1</th>\n",
       "      <td>Symptoms of Depressive Disorder</td>\n",
       "      <td>By Age</td>\n",
       "      <td>United States</td>\n",
       "      <td>18 - 29 years</td>\n",
       "      <td>1</td>\n",
       "      <td>1</td>\n",
       "      <td>Apr 23 - May 5, 2020</td>\n",
       "      <td>04/23/2020</td>\n",
       "      <td>05/05/2020</td>\n",
       "      <td>32.7</td>\n",
       "      <td>30.2</td>\n",
       "      <td>35.2</td>\n",
       "      <td>30.2 - 35.2</td>\n",
       "      <td>NaN</td>\n",
       "    </tr>\n",
       "    <tr>\n",
       "      <th>2</th>\n",
       "      <td>Symptoms of Depressive Disorder</td>\n",
       "      <td>By Age</td>\n",
       "      <td>United States</td>\n",
       "      <td>30 - 39 years</td>\n",
       "      <td>1</td>\n",
       "      <td>1</td>\n",
       "      <td>Apr 23 - May 5, 2020</td>\n",
       "      <td>04/23/2020</td>\n",
       "      <td>05/05/2020</td>\n",
       "      <td>25.7</td>\n",
       "      <td>24.1</td>\n",
       "      <td>27.3</td>\n",
       "      <td>24.1 - 27.3</td>\n",
       "      <td>NaN</td>\n",
       "    </tr>\n",
       "    <tr>\n",
       "      <th>3</th>\n",
       "      <td>Symptoms of Depressive Disorder</td>\n",
       "      <td>By Age</td>\n",
       "      <td>United States</td>\n",
       "      <td>40 - 49 years</td>\n",
       "      <td>1</td>\n",
       "      <td>1</td>\n",
       "      <td>Apr 23 - May 5, 2020</td>\n",
       "      <td>04/23/2020</td>\n",
       "      <td>05/05/2020</td>\n",
       "      <td>24.8</td>\n",
       "      <td>23.3</td>\n",
       "      <td>26.2</td>\n",
       "      <td>23.3 - 26.2</td>\n",
       "      <td>NaN</td>\n",
       "    </tr>\n",
       "    <tr>\n",
       "      <th>4</th>\n",
       "      <td>Symptoms of Depressive Disorder</td>\n",
       "      <td>By Age</td>\n",
       "      <td>United States</td>\n",
       "      <td>50 - 59 years</td>\n",
       "      <td>1</td>\n",
       "      <td>1</td>\n",
       "      <td>Apr 23 - May 5, 2020</td>\n",
       "      <td>04/23/2020</td>\n",
       "      <td>05/05/2020</td>\n",
       "      <td>23.2</td>\n",
       "      <td>21.5</td>\n",
       "      <td>25.0</td>\n",
       "      <td>21.5 - 25.0</td>\n",
       "      <td>NaN</td>\n",
       "    </tr>\n",
       "  </tbody>\n",
       "</table>\n",
       "</div>"
      ],
      "text/plain": [
       "                         Indicator              Group          State  \\\n",
       "0  Symptoms of Depressive Disorder  National Estimate  United States   \n",
       "1  Symptoms of Depressive Disorder             By Age  United States   \n",
       "2  Symptoms of Depressive Disorder             By Age  United States   \n",
       "3  Symptoms of Depressive Disorder             By Age  United States   \n",
       "4  Symptoms of Depressive Disorder             By Age  United States   \n",
       "\n",
       "        Subgroup Phase  Time Period     Time Period Label  \\\n",
       "0  United States     1            1  Apr 23 - May 5, 2020   \n",
       "1  18 - 29 years     1            1  Apr 23 - May 5, 2020   \n",
       "2  30 - 39 years     1            1  Apr 23 - May 5, 2020   \n",
       "3  40 - 49 years     1            1  Apr 23 - May 5, 2020   \n",
       "4  50 - 59 years     1            1  Apr 23 - May 5, 2020   \n",
       "\n",
       "  Time Period Start Date Time Period End Date  Value  Low CI  High CI  \\\n",
       "0             04/23/2020           05/05/2020   23.5    22.7     24.3   \n",
       "1             04/23/2020           05/05/2020   32.7    30.2     35.2   \n",
       "2             04/23/2020           05/05/2020   25.7    24.1     27.3   \n",
       "3             04/23/2020           05/05/2020   24.8    23.3     26.2   \n",
       "4             04/23/2020           05/05/2020   23.2    21.5     25.0   \n",
       "\n",
       "  Confidence Interval Quartile Range  \n",
       "0         22.7 - 24.3            NaN  \n",
       "1         30.2 - 35.2            NaN  \n",
       "2         24.1 - 27.3            NaN  \n",
       "3         23.3 - 26.2            NaN  \n",
       "4         21.5 - 25.0            NaN  "
      ]
     },
     "execution_count": 3,
     "metadata": {},
     "output_type": "execute_result"
    }
   ],
   "source": [
    "mh.head()"
   ]
  },
  {
   "cell_type": "code",
   "execution_count": 4,
   "id": "7d7807f6",
   "metadata": {},
   "outputs": [
    {
     "name": "stdout",
     "output_type": "stream",
     "text": [
      "<class 'pandas.core.frame.DataFrame'>\n",
      "RangeIndex: 11484 entries, 0 to 11483\n",
      "Data columns (total 14 columns):\n",
      " #   Column                  Non-Null Count  Dtype  \n",
      "---  ------                  --------------  -----  \n",
      " 0   Indicator               11484 non-null  object \n",
      " 1   Group                   11484 non-null  object \n",
      " 2   State                   11484 non-null  object \n",
      " 3   Subgroup                11484 non-null  object \n",
      " 4   Phase                   11484 non-null  object \n",
      " 5   Time Period             11484 non-null  int64  \n",
      " 6   Time Period Label       11484 non-null  object \n",
      " 7   Time Period Start Date  11484 non-null  object \n",
      " 8   Time Period End Date    11484 non-null  object \n",
      " 9   Value                   10944 non-null  float64\n",
      " 10  Low CI                  10944 non-null  float64\n",
      " 11  High CI                 10944 non-null  float64\n",
      " 12  Confidence Interval     10944 non-null  object \n",
      " 13  Quartile Range          7650 non-null   object \n",
      "dtypes: float64(3), int64(1), object(10)\n",
      "memory usage: 1.2+ MB\n"
     ]
    }
   ],
   "source": [
    "mh.info()"
   ]
  },
  {
   "cell_type": "code",
   "execution_count": 5,
   "id": "b9e93eae",
   "metadata": {},
   "outputs": [
    {
     "data": {
      "text/plain": [
       "array(['National Estimate', 'By Age', 'By Sex',\n",
       "       'By Race/Hispanic ethnicity', 'By Education', 'By State',\n",
       "       'By Disability status', 'By Gender identity',\n",
       "       'By Sexual orientation'], dtype=object)"
      ]
     },
     "execution_count": 5,
     "metadata": {},
     "output_type": "execute_result"
    }
   ],
   "source": [
    "mh['Group'].unique()"
   ]
  },
  {
   "cell_type": "code",
   "execution_count": 6,
   "id": "b7ae3978",
   "metadata": {},
   "outputs": [
    {
     "data": {
      "text/plain": [
       "Indicator                 870\n",
       "Group                     870\n",
       "State                     870\n",
       "Subgroup                  870\n",
       "Phase                     870\n",
       "Time Period               870\n",
       "Time Period Label         870\n",
       "Time Period Start Date    870\n",
       "Time Period End Date      870\n",
       "Value                     750\n",
       "Low CI                    750\n",
       "High CI                   750\n",
       "Confidence Interval       750\n",
       "Quartile Range              0\n",
       "dtype: int64"
      ]
     },
     "execution_count": 6,
     "metadata": {},
     "output_type": "execute_result"
    }
   ],
   "source": [
    "mh[mh['Group']=='By Race/Hispanic ethnicity'].count()"
   ]
  },
  {
   "cell_type": "markdown",
   "id": "a9337d82",
   "metadata": {},
   "source": [
    "There are 870 relevant data points from this mental health scores"
   ]
  },
  {
   "cell_type": "code",
   "execution_count": 7,
   "id": "e7ce1df1",
   "metadata": {},
   "outputs": [],
   "source": [
    "re_sub = mh[mh['Group']=='By Race/Hispanic ethnicity']"
   ]
  },
  {
   "cell_type": "code",
   "execution_count": 22,
   "id": "139c09ba",
   "metadata": {},
   "outputs": [
    {
     "data": {
      "text/html": [
       "<div>\n",
       "<style scoped>\n",
       "    .dataframe tbody tr th:only-of-type {\n",
       "        vertical-align: middle;\n",
       "    }\n",
       "\n",
       "    .dataframe tbody tr th {\n",
       "        vertical-align: top;\n",
       "    }\n",
       "\n",
       "    .dataframe thead th {\n",
       "        text-align: right;\n",
       "    }\n",
       "</style>\n",
       "<table border=\"1\" class=\"dataframe\">\n",
       "  <thead>\n",
       "    <tr style=\"text-align: right;\">\n",
       "      <th></th>\n",
       "      <th>Indicator</th>\n",
       "      <th>Group</th>\n",
       "      <th>State</th>\n",
       "      <th>Subgroup</th>\n",
       "      <th>Phase</th>\n",
       "      <th>Time Period</th>\n",
       "      <th>Time Period Label</th>\n",
       "      <th>Start</th>\n",
       "      <th>End</th>\n",
       "      <th>Value</th>\n",
       "      <th>Low CI</th>\n",
       "      <th>High CI</th>\n",
       "      <th>Confidence Interval</th>\n",
       "      <th>Quartile Range</th>\n",
       "    </tr>\n",
       "  </thead>\n",
       "  <tbody>\n",
       "    <tr>\n",
       "      <th>10</th>\n",
       "      <td>Symptoms of Depressive Disorder</td>\n",
       "      <td>By Race/Hispanic ethnicity</td>\n",
       "      <td>United States</td>\n",
       "      <td>Hispanic or Latino</td>\n",
       "      <td>1</td>\n",
       "      <td>1</td>\n",
       "      <td>Apr 23 - May 5, 2020</td>\n",
       "      <td>2020-04-23</td>\n",
       "      <td>2020-05-05</td>\n",
       "      <td>29.4</td>\n",
       "      <td>26.8</td>\n",
       "      <td>32.1</td>\n",
       "      <td>26.8 - 32.1</td>\n",
       "      <td>NaN</td>\n",
       "    </tr>\n",
       "    <tr>\n",
       "      <th>11</th>\n",
       "      <td>Symptoms of Depressive Disorder</td>\n",
       "      <td>By Race/Hispanic ethnicity</td>\n",
       "      <td>United States</td>\n",
       "      <td>Non-Hispanic White, single race</td>\n",
       "      <td>1</td>\n",
       "      <td>1</td>\n",
       "      <td>Apr 23 - May 5, 2020</td>\n",
       "      <td>2020-04-23</td>\n",
       "      <td>2020-05-05</td>\n",
       "      <td>21.4</td>\n",
       "      <td>20.6</td>\n",
       "      <td>22.1</td>\n",
       "      <td>20.6 - 22.1</td>\n",
       "      <td>NaN</td>\n",
       "    </tr>\n",
       "    <tr>\n",
       "      <th>12</th>\n",
       "      <td>Symptoms of Depressive Disorder</td>\n",
       "      <td>By Race/Hispanic ethnicity</td>\n",
       "      <td>United States</td>\n",
       "      <td>Non-Hispanic Black, single race</td>\n",
       "      <td>1</td>\n",
       "      <td>1</td>\n",
       "      <td>Apr 23 - May 5, 2020</td>\n",
       "      <td>2020-04-23</td>\n",
       "      <td>2020-05-05</td>\n",
       "      <td>25.6</td>\n",
       "      <td>23.7</td>\n",
       "      <td>27.5</td>\n",
       "      <td>23.7 - 27.5</td>\n",
       "      <td>NaN</td>\n",
       "    </tr>\n",
       "    <tr>\n",
       "      <th>13</th>\n",
       "      <td>Symptoms of Depressive Disorder</td>\n",
       "      <td>By Race/Hispanic ethnicity</td>\n",
       "      <td>United States</td>\n",
       "      <td>Non-Hispanic Asian, single race</td>\n",
       "      <td>1</td>\n",
       "      <td>1</td>\n",
       "      <td>Apr 23 - May 5, 2020</td>\n",
       "      <td>2020-04-23</td>\n",
       "      <td>2020-05-05</td>\n",
       "      <td>23.6</td>\n",
       "      <td>20.3</td>\n",
       "      <td>27.1</td>\n",
       "      <td>20.3 - 27.1</td>\n",
       "      <td>NaN</td>\n",
       "    </tr>\n",
       "    <tr>\n",
       "      <th>14</th>\n",
       "      <td>Symptoms of Depressive Disorder</td>\n",
       "      <td>By Race/Hispanic ethnicity</td>\n",
       "      <td>United States</td>\n",
       "      <td>Non-Hispanic, other races and multiple races</td>\n",
       "      <td>1</td>\n",
       "      <td>1</td>\n",
       "      <td>Apr 23 - May 5, 2020</td>\n",
       "      <td>2020-04-23</td>\n",
       "      <td>2020-05-05</td>\n",
       "      <td>28.3</td>\n",
       "      <td>24.8</td>\n",
       "      <td>32.0</td>\n",
       "      <td>24.8 - 32.0</td>\n",
       "      <td>NaN</td>\n",
       "    </tr>\n",
       "  </tbody>\n",
       "</table>\n",
       "</div>"
      ],
      "text/plain": [
       "                          Indicator                       Group  \\\n",
       "10  Symptoms of Depressive Disorder  By Race/Hispanic ethnicity   \n",
       "11  Symptoms of Depressive Disorder  By Race/Hispanic ethnicity   \n",
       "12  Symptoms of Depressive Disorder  By Race/Hispanic ethnicity   \n",
       "13  Symptoms of Depressive Disorder  By Race/Hispanic ethnicity   \n",
       "14  Symptoms of Depressive Disorder  By Race/Hispanic ethnicity   \n",
       "\n",
       "            State                                      Subgroup Phase  \\\n",
       "10  United States                            Hispanic or Latino     1   \n",
       "11  United States               Non-Hispanic White, single race     1   \n",
       "12  United States               Non-Hispanic Black, single race     1   \n",
       "13  United States               Non-Hispanic Asian, single race     1   \n",
       "14  United States  Non-Hispanic, other races and multiple races     1   \n",
       "\n",
       "    Time Period     Time Period Label      Start        End  Value  Low CI  \\\n",
       "10            1  Apr 23 - May 5, 2020 2020-04-23 2020-05-05   29.4    26.8   \n",
       "11            1  Apr 23 - May 5, 2020 2020-04-23 2020-05-05   21.4    20.6   \n",
       "12            1  Apr 23 - May 5, 2020 2020-04-23 2020-05-05   25.6    23.7   \n",
       "13            1  Apr 23 - May 5, 2020 2020-04-23 2020-05-05   23.6    20.3   \n",
       "14            1  Apr 23 - May 5, 2020 2020-04-23 2020-05-05   28.3    24.8   \n",
       "\n",
       "    High CI Confidence Interval Quartile Range  \n",
       "10     32.1         26.8 - 32.1            NaN  \n",
       "11     22.1         20.6 - 22.1            NaN  \n",
       "12     27.5         23.7 - 27.5            NaN  \n",
       "13     27.1         20.3 - 27.1            NaN  \n",
       "14     32.0         24.8 - 32.0            NaN  "
      ]
     },
     "execution_count": 22,
     "metadata": {},
     "output_type": "execute_result"
    }
   ],
   "source": [
    "re_sub.head()"
   ]
  },
  {
   "cell_type": "code",
   "execution_count": 8,
   "id": "18851379",
   "metadata": {},
   "outputs": [
    {
     "data": {
      "text/plain": [
       "array(['Hispanic or Latino', 'Non-Hispanic White, single race',\n",
       "       'Non-Hispanic Black, single race',\n",
       "       'Non-Hispanic Asian, single race',\n",
       "       'Non-Hispanic, other races and multiple races'], dtype=object)"
      ]
     },
     "execution_count": 8,
     "metadata": {},
     "output_type": "execute_result"
    }
   ],
   "source": [
    "re_sub['Subgroup'].unique()"
   ]
  },
  {
   "cell_type": "code",
   "execution_count": 9,
   "id": "0c93aac6",
   "metadata": {},
   "outputs": [
    {
     "data": {
      "text/plain": [
       "array(['Symptoms of Depressive Disorder', 'Symptoms of Anxiety Disorder',\n",
       "       'Symptoms of Anxiety Disorder or Depressive Disorder'],\n",
       "      dtype=object)"
      ]
     },
     "execution_count": 9,
     "metadata": {},
     "output_type": "execute_result"
    }
   ],
   "source": [
    "re_sub['Indicator'].unique()"
   ]
  },
  {
   "cell_type": "code",
   "execution_count": 10,
   "id": "7c2b0318",
   "metadata": {},
   "outputs": [],
   "source": [
    "re_sub = re_sub.rename(columns={'Time Period Start Date':'Start','Time Period End Date':'End'})"
   ]
  },
  {
   "cell_type": "code",
   "execution_count": 11,
   "id": "999d294f",
   "metadata": {},
   "outputs": [],
   "source": [
    "re_sub = re_sub.astype({'Start':'datetime64[ns]','End':'datetime64[ns]'})"
   ]
  },
  {
   "cell_type": "code",
   "execution_count": 12,
   "id": "849dabb4",
   "metadata": {},
   "outputs": [
    {
     "data": {
      "text/plain": [
       "Indicator                      object\n",
       "Group                          object\n",
       "State                          object\n",
       "Subgroup                       object\n",
       "Phase                          object\n",
       "Time Period                     int64\n",
       "Time Period Label              object\n",
       "Start                  datetime64[ns]\n",
       "End                    datetime64[ns]\n",
       "Value                         float64\n",
       "Low CI                        float64\n",
       "High CI                       float64\n",
       "Confidence Interval            object\n",
       "Quartile Range                 object\n",
       "dtype: object"
      ]
     },
     "execution_count": 12,
     "metadata": {},
     "output_type": "execute_result"
    }
   ],
   "source": [
    "re_sub.dtypes"
   ]
  },
  {
   "cell_type": "code",
   "execution_count": 13,
   "id": "9fedb08a",
   "metadata": {},
   "outputs": [
    {
     "data": {
      "text/plain": [
       "count    750.000000\n",
       "mean      31.504000\n",
       "std        7.666811\n",
       "min       14.000000\n",
       "25%       26.100000\n",
       "50%       31.200000\n",
       "75%       36.500000\n",
       "max       52.600000\n",
       "Name: Value, dtype: float64"
      ]
     },
     "execution_count": 13,
     "metadata": {},
     "output_type": "execute_result"
    }
   ],
   "source": [
    "re_sub['Value'].describe()"
   ]
  },
  {
   "cell_type": "code",
   "execution_count": 14,
   "id": "62427f72",
   "metadata": {},
   "outputs": [
    {
     "data": {
      "image/png": "[encoded data removed]",
      "text/plain": [
       "<Figure size 640x480 with 1 Axes>"
      ]
     },
     "metadata": {},
     "output_type": "display_data"
    }
   ],
   "source": [
    "fig, ax = plt.subplots()\n",
    "\n",
    "ax.hist(re_sub['Value'], bins=10)\n",
    "ax.set_xlabel('Score')\n",
    "ax.set_ylabel('Counts')\n",
    "ax.set_title('Mental Health Survey Scores from 2020 to 2022')\n",
    "plt.show()"
   ]
  },
  {
   "cell_type": "markdown",
   "id": "2fb08d0b",
   "metadata": {},
   "source": [
    "https://www.ncbi.nlm.nih.gov/pmc/articles/PMC4927366/#:~:text=The%20PHQ%2DADS%20is%20the,of%20depression%20and%20anxiety%20symptomatology.\n",
    "\n",
    "## Based on the article above, the max score should only be 48 at most for anxiety (GAD7) and depression (PHQ-9) tests combined"
   ]
  },
  {
   "cell_type": "code",
   "execution_count": 15,
   "id": "e0f63685",
   "metadata": {},
   "outputs": [
    {
     "data": {
      "image/png": "[encoded data removed]",
      "text/plain": [
       "<Figure size 640x480 with 1 Axes>"
      ]
     },
     "metadata": {},
     "output_type": "display_data"
    }
   ],
   "source": [
    "dep = re_sub.loc[re_sub['Indicator']== 'Symptoms of Depressive Disorder','Value']\n",
    "fig, ax = plt.subplots()\n",
    "\n",
    "ax.hist(dep, bins=10)\n",
    "ax.set_xlabel('Score')\n",
    "ax.set_ylabel('Counts')\n",
    "ax.set_title('Depression Survey Scores from 2020 to 2022')\n",
    "plt.show()"
   ]
  },
  {
   "cell_type": "code",
   "execution_count": 16,
   "id": "adda063d",
   "metadata": {},
   "outputs": [
    {
     "data": {
      "image/png": "[encoded data removed]",
      "text/plain": [
       "<Figure size 640x480 with 1 Axes>"
      ]
     },
     "metadata": {},
     "output_type": "display_data"
    }
   ],
   "source": [
    "anx = re_sub.loc[re_sub['Indicator']== 'Symptoms of Anxiety Disorder','Value']\n",
    "fig, ax = plt.subplots()\n",
    "\n",
    "ax.hist(anx, bins=10)\n",
    "ax.set_xlabel('Score')\n",
    "ax.set_ylabel('Counts')\n",
    "ax.set_title('Anxiety Survey Scores from 2020 to 2022')\n",
    "plt.show()"
   ]
  },
  {
   "cell_type": "code",
   "execution_count": 17,
   "id": "3a318448",
   "metadata": {},
   "outputs": [
    {
     "data": {
      "image/png": "[encoded data removed]",
      "text/plain": [
       "<Figure size 640x480 with 1 Axes>"
      ]
     },
     "metadata": {},
     "output_type": "display_data"
    }
   ],
   "source": [
    "both = re_sub.loc[re_sub['Indicator']== 'Symptoms of Anxiety Disorder or Depressive Disorder','Value']\n",
    "fig, ax = plt.subplots()\n",
    "\n",
    "ax.hist(both, bins=10)\n",
    "ax.set_xlabel('Score')\n",
    "ax.set_ylabel('Counts')\n",
    "ax.set_title('Testing for Both Survey Scores from 2020 to 2022')\n",
    "plt.show()"
   ]
  },
  {
   "cell_type": "markdown",
   "id": "0070ac08",
   "metadata": {},
   "source": [
    "## The kaggle dataset says that the tests are coming from the GAD-2 and PHQ-2 but the tests are saying otherwise.  For the purposes of this dataframe, a higher score is indicative of a greater disease state"
   ]
  },
  {
   "cell_type": "markdown",
   "id": "b055ba25",
   "metadata": {},
   "source": [
    "# 2.) Open the Unemployment Data"
   ]
  },
  {
   "cell_type": "markdown",
   "id": "159a5e3e",
   "metadata": {},
   "source": [
    "## The data is coming in from a very chunky format, so will be condensed in excel"
   ]
  },
  {
   "cell_type": "code",
   "execution_count": 49,
   "id": "12d18238",
   "metadata": {},
   "outputs": [],
   "source": [
    "unemp = pd.read_csv('Summary_Sheet - Sheet1.csv')"
   ]
  },
  {
   "cell_type": "code",
   "execution_count": 50,
   "id": "824ccc9d",
   "metadata": {},
   "outputs": [
    {
     "data": {
      "text/html": [
       "<div>\n",
       "<style scoped>\n",
       "    .dataframe tbody tr th:only-of-type {\n",
       "        vertical-align: middle;\n",
       "    }\n",
       "\n",
       "    .dataframe tbody tr th {\n",
       "        vertical-align: top;\n",
       "    }\n",
       "\n",
       "    .dataframe thead th {\n",
       "        text-align: right;\n",
       "    }\n",
       "</style>\n",
       "<table border=\"1\" class=\"dataframe\">\n",
       "  <thead>\n",
       "    <tr style=\"text-align: right;\">\n",
       "      <th></th>\n",
       "      <th>Description</th>\n",
       "      <th>Statistic</th>\n",
       "    </tr>\n",
       "  </thead>\n",
       "  <tbody>\n",
       "    <tr>\n",
       "      <th>0</th>\n",
       "      <td>White, M, 2019, Unemployed</td>\n",
       "      <td>2266.0</td>\n",
       "    </tr>\n",
       "    <tr>\n",
       "      <th>1</th>\n",
       "      <td>White, M, 2019, Unemployment Rate</td>\n",
       "      <td>3.3</td>\n",
       "    </tr>\n",
       "    <tr>\n",
       "      <th>2</th>\n",
       "      <td>White, M, 2020, Unemployed</td>\n",
       "      <td>4725.0</td>\n",
       "    </tr>\n",
       "    <tr>\n",
       "      <th>3</th>\n",
       "      <td>White, M, 2020, Unemployment Rate</td>\n",
       "      <td>7.0</td>\n",
       "    </tr>\n",
       "    <tr>\n",
       "      <th>4</th>\n",
       "      <td>White, M, 2021, Unemployed</td>\n",
       "      <td>3222.0</td>\n",
       "    </tr>\n",
       "  </tbody>\n",
       "</table>\n",
       "</div>"
      ],
      "text/plain": [
       "                         Description  Statistic\n",
       "0         White, M, 2019, Unemployed     2266.0\n",
       "1  White, M, 2019, Unemployment Rate        3.3\n",
       "2         White, M, 2020, Unemployed     4725.0\n",
       "3  White, M, 2020, Unemployment Rate        7.0\n",
       "4         White, M, 2021, Unemployed     3222.0"
      ]
     },
     "execution_count": 50,
     "metadata": {},
     "output_type": "execute_result"
    }
   ],
   "source": [
    "unemp.head()"
   ]
  },
  {
   "cell_type": "code",
   "execution_count": 52,
   "id": "7398b37e",
   "metadata": {},
   "outputs": [],
   "source": [
    "markers = []\n",
    "for x in range(len(unemp)):\n",
    "    if 'Unemployed' in unemp['Description'][x]:\n",
    "        markers.append(x)"
   ]
  },
  {
   "cell_type": "code",
   "execution_count": 53,
   "id": "b449e3ff",
   "metadata": {},
   "outputs": [],
   "source": [
    "unemp_only = unemp.loc[markers] * 1000"
   ]
  },
  {
   "cell_type": "code",
   "execution_count": 54,
   "id": "13fb86af",
   "metadata": {},
   "outputs": [],
   "source": [
    "unemp_only = unemp_only.reset_index(drop=True)"
   ]
  },
  {
   "cell_type": "code",
   "execution_count": 55,
   "id": "5d580190",
   "metadata": {},
   "outputs": [],
   "source": [
    "rate_only = unemp.loc[[x for x in range(0,64) if x not in markers]]"
   ]
  },
  {
   "cell_type": "code",
   "execution_count": 56,
   "id": "a1a0c5df",
   "metadata": {},
   "outputs": [],
   "source": [
    "rate_only = rate_only.reset_index(drop=True)"
   ]
  },
  {
   "cell_type": "markdown",
   "id": "d12fc267",
   "metadata": {},
   "source": [
    "Lets capture the change in unemployment and unemployment rate and assign it to a year (2020-2019 will assign to 2020... to reflect the change in economic behavior from year to year and the consequent change in mental health scores on the survey)"
   ]
  },
  {
   "cell_type": "code",
   "execution_count": 120,
   "id": "95a9e0fe",
   "metadata": {},
   "outputs": [],
   "source": [
    "demos = ['W','B','A','H']\n",
    "gender = ['M', 'F']\n",
    "years = [2020, 2021, 2022]\n",
    "year_list = []\n",
    "demo_list = []\n",
    "gender_list = []"
   ]
  },
  {
   "cell_type": "code",
   "execution_count": 121,
   "id": "ae3d32ea",
   "metadata": {},
   "outputs": [],
   "source": [
    "for x in range(0,8):\n",
    "    for y in years:\n",
    "        year_list.append(y)"
   ]
  },
  {
   "cell_type": "code",
   "execution_count": 124,
   "id": "8cd7979b",
   "metadata": {},
   "outputs": [],
   "source": [
    "i = 0\n",
    "j= 0 \n",
    "while i < 4:\n",
    "    i += 1\n",
    "    for x in gender:\n",
    "        gender_list.append(x)\n",
    "        gender_list.append(x)\n",
    "        gender_list.append(x)"
   ]
  },
  {
   "cell_type": "code",
   "execution_count": 127,
   "id": "1d879518",
   "metadata": {},
   "outputs": [],
   "source": [
    "for x in demos:\n",
    "    i = 0\n",
    "    while i < 6:\n",
    "        i +=1\n",
    "        demo_list.append(x)"
   ]
  },
  {
   "cell_type": "code",
   "execution_count": 129,
   "id": "a9df942d",
   "metadata": {},
   "outputs": [],
   "source": [
    "def diff_calc(df, col):\n",
    "    diff_list = []\n",
    "    index = 0\n",
    "    count = 0\n",
    "    for x in df[col]:\n",
    "        count += 1\n",
    "        if count == 4 and index == 0:\n",
    "            \n",
    "            diff_1 = df[col][1]- df[col][0]\n",
    "            diff_2 = df[col][2]- df[col][1]\n",
    "            diff_3 = df[col][3]- df[col][2]\n",
    "            \n",
    "            index += 1\n",
    "            \n",
    "            diff_list.append(diff_1)\n",
    "            diff_list.append(diff_2)\n",
    "            diff_list.append(diff_3)\n",
    "            \n",
    "            count = 0\n",
    "            \n",
    "        elif count == 4 and index !=0:\n",
    " \n",
    "            add_on = index * 4\n",
    "            diff_1 = df[col][1+ add_on]- df[col][0+ add_on]\n",
    "            diff_2 = df[col][2+ add_on]- df[col][1+ add_on]\n",
    "            diff_3 = df[col][3+ add_on]- df[col][2 + add_on]\n",
    "            \n",
    "            index += 1\n",
    "            \n",
    "            diff_list.append(diff_1)\n",
    "            diff_list.append(diff_2)\n",
    "            diff_list.append(diff_3)\n",
    "            \n",
    "            count = 0\n",
    "            \n",
    "            \n",
    "    return diff_list\n",
    "            "
   ]
  },
  {
   "cell_type": "code",
   "execution_count": 130,
   "id": "4e63658a",
   "metadata": {},
   "outputs": [],
   "source": [
    "unemp_diff = diff_calc(unemp_only, 'Statistic')"
   ]
  },
  {
   "cell_type": "code",
   "execution_count": 133,
   "id": "1d942a75",
   "metadata": {},
   "outputs": [],
   "source": [
    "rate_diff = diff_calc(rate_only, 'Statistic')"
   ]
  },
  {
   "cell_type": "code",
   "execution_count": 139,
   "id": "317be249",
   "metadata": {},
   "outputs": [],
   "source": [
    "unemp_v2 = pd.DataFrame({'Year':year_list,'Race':demo_list, 'Gender': gender_list, 'unemployment_rate_change':rate_diff, 'unemployment_change':unemp_diff})"
   ]
  },
  {
   "cell_type": "code",
   "execution_count": 231,
   "id": "7f32f96f",
   "metadata": {},
   "outputs": [
    {
     "data": {
      "text/html": [
       "<div>\n",
       "<style scoped>\n",
       "    .dataframe tbody tr th:only-of-type {\n",
       "        vertical-align: middle;\n",
       "    }\n",
       "\n",
       "    .dataframe tbody tr th {\n",
       "        vertical-align: top;\n",
       "    }\n",
       "\n",
       "    .dataframe thead th {\n",
       "        text-align: right;\n",
       "    }\n",
       "</style>\n",
       "<table border=\"1\" class=\"dataframe\">\n",
       "  <thead>\n",
       "    <tr style=\"text-align: right;\">\n",
       "      <th></th>\n",
       "      <th>Year</th>\n",
       "      <th>Race</th>\n",
       "      <th>Gender</th>\n",
       "      <th>unemployment_rate_change</th>\n",
       "      <th>unemployment_change</th>\n",
       "    </tr>\n",
       "  </thead>\n",
       "  <tbody>\n",
       "    <tr>\n",
       "      <th>0</th>\n",
       "      <td>2020</td>\n",
       "      <td>W</td>\n",
       "      <td>M</td>\n",
       "      <td>3.7</td>\n",
       "      <td>2459000.0</td>\n",
       "    </tr>\n",
       "    <tr>\n",
       "      <th>1</th>\n",
       "      <td>2021</td>\n",
       "      <td>W</td>\n",
       "      <td>M</td>\n",
       "      <td>-2.2</td>\n",
       "      <td>-1503000.0</td>\n",
       "    </tr>\n",
       "    <tr>\n",
       "      <th>2</th>\n",
       "      <td>2022</td>\n",
       "      <td>W</td>\n",
       "      <td>M</td>\n",
       "      <td>-1.5</td>\n",
       "      <td>-984000.0</td>\n",
       "    </tr>\n",
       "    <tr>\n",
       "      <th>3</th>\n",
       "      <td>2020</td>\n",
       "      <td>W</td>\n",
       "      <td>F</td>\n",
       "      <td>4.4</td>\n",
       "      <td>2472000.0</td>\n",
       "    </tr>\n",
       "    <tr>\n",
       "      <th>4</th>\n",
       "      <td>2021</td>\n",
       "      <td>W</td>\n",
       "      <td>F</td>\n",
       "      <td>-3.0</td>\n",
       "      <td>-1733000.0</td>\n",
       "    </tr>\n",
       "  </tbody>\n",
       "</table>\n",
       "</div>"
      ],
      "text/plain": [
       "   Year Race Gender  unemployment_rate_change  unemployment_change\n",
       "0  2020    W      M                       3.7            2459000.0\n",
       "1  2021    W      M                      -2.2           -1503000.0\n",
       "2  2022    W      M                      -1.5            -984000.0\n",
       "3  2020    W      F                       4.4            2472000.0\n",
       "4  2021    W      F                      -3.0           -1733000.0"
      ]
     },
     "execution_count": 231,
     "metadata": {},
     "output_type": "execute_result"
    }
   ],
   "source": [
    "unemp_v2.head()"
   ]
  },
  {
   "cell_type": "markdown",
   "id": "f1f4cca7",
   "metadata": {},
   "source": [
    "because we are not doing a gender lens, we should perform a weighed average of the unemployment rate for the genders within each race\n",
    "\n",
    "this equation would look like:\n",
    "|unemployment rate * unemployed| + |unemployment rate * unemployed|/ total unemployed"
   ]
  },
  {
   "cell_type": "code",
   "execution_count": 147,
   "id": "34e9ddc1",
   "metadata": {},
   "outputs": [],
   "source": [
    "def weighted_avg(r1, r2, u3, u4):\n",
    "    return ((r1*u3)+(r2*u4))/(u3+u4)\n",
    "    "
   ]
  },
  {
   "cell_type": "code",
   "execution_count": 172,
   "id": "6b52516e",
   "metadata": {},
   "outputs": [],
   "source": [
    "def weighing(df):\n",
    "    weighted_list = []\n",
    "    y_index = 0\n",
    "    g_index = 0\n",
    "    \n",
    "    i = 0\n",
    "    while i < 12:\n",
    "        i += 1\n",
    "        r1 = df.iloc[g_index,3]\n",
    "        r2 = df.iloc[g_index+3, 3]\n",
    "        u3 = df.iloc[g_index, 4]\n",
    "        u4 = df.iloc[g_index+3, 4]\n",
    "        \n",
    "        weighted_list.append(weighted_avg(r1, r2, u3, u4))\n",
    "        \n",
    "        g_index += 1\n",
    "        y_index += 1\n",
    "        \n",
    "        if y_index == 3:\n",
    "            g_index += 3\n",
    "            y_index = 0\n",
    "            \n",
    "    return weighted_list\n"
   ]
  },
  {
   "cell_type": "code",
   "execution_count": 176,
   "id": "76db7c54",
   "metadata": {},
   "outputs": [],
   "source": [
    "weighted = weighing(unemp_v2)"
   ]
  },
  {
   "cell_type": "code",
   "execution_count": 196,
   "id": "95106d96",
   "metadata": {},
   "outputs": [],
   "source": [
    "def summed(df):\n",
    "    summed_list = []\n",
    "    y_index = 0\n",
    "    g_index = 0\n",
    "    \n",
    "    i = 0\n",
    "    while i < 12:\n",
    "        i += 1\n",
    "        u3 = df.iloc[g_index, 4]\n",
    "        u4 = df.iloc[g_index+3, 4]\n",
    "        sum_ = u3 + u4\n",
    "        \n",
    "        summed_list.append(sum_)\n",
    "        \n",
    "        g_index += 1\n",
    "        y_index += 1\n",
    "        \n",
    "        if y_index == 3:\n",
    "            g_index += 3\n",
    "            y_index = 0\n",
    "            \n",
    "    return summed_list"
   ]
  },
  {
   "cell_type": "code",
   "execution_count": 197,
   "id": "f1654ab2",
   "metadata": {},
   "outputs": [],
   "source": [
    "summed = summed(unemp_v2)"
   ]
  },
  {
   "cell_type": "code",
   "execution_count": 178,
   "id": "edc994cb",
   "metadata": {},
   "outputs": [],
   "source": [
    "demos = ['W','B','A','H']\n",
    "years = [2020, 2021, 2022]"
   ]
  },
  {
   "cell_type": "code",
   "execution_count": 179,
   "id": "b1b72f08",
   "metadata": {},
   "outputs": [],
   "source": [
    "year_list_2 = []\n",
    "demo_list_2 = []"
   ]
  },
  {
   "cell_type": "code",
   "execution_count": 180,
   "id": "d38ce3e9",
   "metadata": {},
   "outputs": [],
   "source": [
    "for x in range(0,4):\n",
    "    for y in years:\n",
    "        year_list_2.append(y)"
   ]
  },
  {
   "cell_type": "code",
   "execution_count": 181,
   "id": "a6397cf5",
   "metadata": {},
   "outputs": [],
   "source": [
    "for x in demos:\n",
    "    i = 0\n",
    "    while i < 3:\n",
    "        i +=1\n",
    "        demo_list_2.append(x)"
   ]
  },
  {
   "cell_type": "code",
   "execution_count": 200,
   "id": "fa079d89",
   "metadata": {},
   "outputs": [],
   "source": [
    "unemp_v3 = pd.DataFrame(data={'Year':year_list_2, 'Race':demo_list_2, 'weighted_unemployment_rate_change':weighted, 'total_unemployed_change':summed})"
   ]
  },
  {
   "cell_type": "code",
   "execution_count": 201,
   "id": "d0712843",
   "metadata": {},
   "outputs": [
    {
     "data": {
      "text/html": [
       "<div>\n",
       "<style scoped>\n",
       "    .dataframe tbody tr th:only-of-type {\n",
       "        vertical-align: middle;\n",
       "    }\n",
       "\n",
       "    .dataframe tbody tr th {\n",
       "        vertical-align: top;\n",
       "    }\n",
       "\n",
       "    .dataframe thead th {\n",
       "        text-align: right;\n",
       "    }\n",
       "</style>\n",
       "<table border=\"1\" class=\"dataframe\">\n",
       "  <thead>\n",
       "    <tr style=\"text-align: right;\">\n",
       "      <th></th>\n",
       "      <th>Year</th>\n",
       "      <th>Race</th>\n",
       "      <th>weighted_unemployment_rate_change</th>\n",
       "      <th>total_unemployed_change</th>\n",
       "    </tr>\n",
       "  </thead>\n",
       "  <tbody>\n",
       "    <tr>\n",
       "      <th>0</th>\n",
       "      <td>2020</td>\n",
       "      <td>W</td>\n",
       "      <td>4.050923</td>\n",
       "      <td>4931000.0</td>\n",
       "    </tr>\n",
       "    <tr>\n",
       "      <th>1</th>\n",
       "      <td>2021</td>\n",
       "      <td>W</td>\n",
       "      <td>-2.628430</td>\n",
       "      <td>-3236000.0</td>\n",
       "    </tr>\n",
       "    <tr>\n",
       "      <th>2</th>\n",
       "      <td>2022</td>\n",
       "      <td>W</td>\n",
       "      <td>-1.500000</td>\n",
       "      <td>-1805000.0</td>\n",
       "    </tr>\n",
       "    <tr>\n",
       "      <th>3</th>\n",
       "      <td>2020</td>\n",
       "      <td>B</td>\n",
       "      <td>5.395916</td>\n",
       "      <td>1053000.0</td>\n",
       "    </tr>\n",
       "    <tr>\n",
       "      <th>4</th>\n",
       "      <td>2021</td>\n",
       "      <td>B</td>\n",
       "      <td>-2.900000</td>\n",
       "      <td>-548000.0</td>\n",
       "    </tr>\n",
       "    <tr>\n",
       "      <th>5</th>\n",
       "      <td>2022</td>\n",
       "      <td>B</td>\n",
       "      <td>-2.508096</td>\n",
       "      <td>-457000.0</td>\n",
       "    </tr>\n",
       "    <tr>\n",
       "      <th>6</th>\n",
       "      <td>2020</td>\n",
       "      <td>A</td>\n",
       "      <td>6.083687</td>\n",
       "      <td>613000.0</td>\n",
       "    </tr>\n",
       "    <tr>\n",
       "      <th>7</th>\n",
       "      <td>2021</td>\n",
       "      <td>A</td>\n",
       "      <td>-3.833699</td>\n",
       "      <td>-365000.0</td>\n",
       "    </tr>\n",
       "    <tr>\n",
       "      <th>8</th>\n",
       "      <td>2022</td>\n",
       "      <td>A</td>\n",
       "      <td>-2.203571</td>\n",
       "      <td>-224000.0</td>\n",
       "    </tr>\n",
       "    <tr>\n",
       "      <th>9</th>\n",
       "      <td>2020</td>\n",
       "      <td>H</td>\n",
       "      <td>6.168662</td>\n",
       "      <td>1771000.0</td>\n",
       "    </tr>\n",
       "    <tr>\n",
       "      <th>10</th>\n",
       "      <td>2021</td>\n",
       "      <td>H</td>\n",
       "      <td>-3.704390</td>\n",
       "      <td>-1025000.0</td>\n",
       "    </tr>\n",
       "    <tr>\n",
       "      <th>11</th>\n",
       "      <td>2022</td>\n",
       "      <td>H</td>\n",
       "      <td>-2.583237</td>\n",
       "      <td>-692000.0</td>\n",
       "    </tr>\n",
       "  </tbody>\n",
       "</table>\n",
       "</div>"
      ],
      "text/plain": [
       "    Year Race  weighted_unemployment_rate_change  total_unemployed_change\n",
       "0   2020    W                           4.050923                4931000.0\n",
       "1   2021    W                          -2.628430               -3236000.0\n",
       "2   2022    W                          -1.500000               -1805000.0\n",
       "3   2020    B                           5.395916                1053000.0\n",
       "4   2021    B                          -2.900000                -548000.0\n",
       "5   2022    B                          -2.508096                -457000.0\n",
       "6   2020    A                           6.083687                 613000.0\n",
       "7   2021    A                          -3.833699                -365000.0\n",
       "8   2022    A                          -2.203571                -224000.0\n",
       "9   2020    H                           6.168662                1771000.0\n",
       "10  2021    H                          -3.704390               -1025000.0\n",
       "11  2022    H                          -2.583237                -692000.0"
      ]
     },
     "execution_count": 201,
     "metadata": {},
     "output_type": "execute_result"
    }
   ],
   "source": [
    "unemp_v3.head(12)"
   ]
  },
  {
   "cell_type": "code",
   "execution_count": 202,
   "id": "83b25897",
   "metadata": {},
   "outputs": [],
   "source": [
    "unemp_v3.loc[unemp_v3['Race']=='W','Race'] = 'Non-Hispanic White, single race'"
   ]
  },
  {
   "cell_type": "code",
   "execution_count": 203,
   "id": "d68b923f",
   "metadata": {},
   "outputs": [],
   "source": [
    "unemp_v3.loc[unemp_v3['Race']=='B','Race'] = 'Non-Hispanic Black, single race'"
   ]
  },
  {
   "cell_type": "code",
   "execution_count": 204,
   "id": "57aa5c60",
   "metadata": {},
   "outputs": [],
   "source": [
    "unemp_v3.loc[unemp_v3['Race']=='A','Race'] = 'Non-Hispanic Asian, single race'"
   ]
  },
  {
   "cell_type": "code",
   "execution_count": 205,
   "id": "8026c7a5",
   "metadata": {},
   "outputs": [],
   "source": [
    "unemp_v3.loc[unemp_v3['Race']=='H','Race'] = 'Hispanic or Latino'"
   ]
  },
  {
   "cell_type": "code",
   "execution_count": 206,
   "id": "bf8e013e",
   "metadata": {},
   "outputs": [
    {
     "data": {
      "text/html": [
       "<div>\n",
       "<style scoped>\n",
       "    .dataframe tbody tr th:only-of-type {\n",
       "        vertical-align: middle;\n",
       "    }\n",
       "\n",
       "    .dataframe tbody tr th {\n",
       "        vertical-align: top;\n",
       "    }\n",
       "\n",
       "    .dataframe thead th {\n",
       "        text-align: right;\n",
       "    }\n",
       "</style>\n",
       "<table border=\"1\" class=\"dataframe\">\n",
       "  <thead>\n",
       "    <tr style=\"text-align: right;\">\n",
       "      <th></th>\n",
       "      <th>Year</th>\n",
       "      <th>Race</th>\n",
       "      <th>weighted_unemployment_rate_change</th>\n",
       "      <th>total_unemployed_change</th>\n",
       "    </tr>\n",
       "  </thead>\n",
       "  <tbody>\n",
       "    <tr>\n",
       "      <th>0</th>\n",
       "      <td>2020</td>\n",
       "      <td>Non-Hispanic White, single race</td>\n",
       "      <td>4.050923</td>\n",
       "      <td>4931000.0</td>\n",
       "    </tr>\n",
       "    <tr>\n",
       "      <th>1</th>\n",
       "      <td>2021</td>\n",
       "      <td>Non-Hispanic White, single race</td>\n",
       "      <td>-2.628430</td>\n",
       "      <td>-3236000.0</td>\n",
       "    </tr>\n",
       "    <tr>\n",
       "      <th>2</th>\n",
       "      <td>2022</td>\n",
       "      <td>Non-Hispanic White, single race</td>\n",
       "      <td>-1.500000</td>\n",
       "      <td>-1805000.0</td>\n",
       "    </tr>\n",
       "    <tr>\n",
       "      <th>3</th>\n",
       "      <td>2020</td>\n",
       "      <td>Non-Hispanic Black, single race</td>\n",
       "      <td>5.395916</td>\n",
       "      <td>1053000.0</td>\n",
       "    </tr>\n",
       "    <tr>\n",
       "      <th>4</th>\n",
       "      <td>2021</td>\n",
       "      <td>Non-Hispanic Black, single race</td>\n",
       "      <td>-2.900000</td>\n",
       "      <td>-548000.0</td>\n",
       "    </tr>\n",
       "    <tr>\n",
       "      <th>5</th>\n",
       "      <td>2022</td>\n",
       "      <td>Non-Hispanic Black, single race</td>\n",
       "      <td>-2.508096</td>\n",
       "      <td>-457000.0</td>\n",
       "    </tr>\n",
       "    <tr>\n",
       "      <th>6</th>\n",
       "      <td>2020</td>\n",
       "      <td>Non-Hispanic Asian, single race</td>\n",
       "      <td>6.083687</td>\n",
       "      <td>613000.0</td>\n",
       "    </tr>\n",
       "    <tr>\n",
       "      <th>7</th>\n",
       "      <td>2021</td>\n",
       "      <td>Non-Hispanic Asian, single race</td>\n",
       "      <td>-3.833699</td>\n",
       "      <td>-365000.0</td>\n",
       "    </tr>\n",
       "    <tr>\n",
       "      <th>8</th>\n",
       "      <td>2022</td>\n",
       "      <td>Non-Hispanic Asian, single race</td>\n",
       "      <td>-2.203571</td>\n",
       "      <td>-224000.0</td>\n",
       "    </tr>\n",
       "    <tr>\n",
       "      <th>9</th>\n",
       "      <td>2020</td>\n",
       "      <td>Hispanic or Latino</td>\n",
       "      <td>6.168662</td>\n",
       "      <td>1771000.0</td>\n",
       "    </tr>\n",
       "    <tr>\n",
       "      <th>10</th>\n",
       "      <td>2021</td>\n",
       "      <td>Hispanic or Latino</td>\n",
       "      <td>-3.704390</td>\n",
       "      <td>-1025000.0</td>\n",
       "    </tr>\n",
       "    <tr>\n",
       "      <th>11</th>\n",
       "      <td>2022</td>\n",
       "      <td>Hispanic or Latino</td>\n",
       "      <td>-2.583237</td>\n",
       "      <td>-692000.0</td>\n",
       "    </tr>\n",
       "  </tbody>\n",
       "</table>\n",
       "</div>"
      ],
      "text/plain": [
       "    Year                             Race  weighted_unemployment_rate_change  \\\n",
       "0   2020  Non-Hispanic White, single race                           4.050923   \n",
       "1   2021  Non-Hispanic White, single race                          -2.628430   \n",
       "2   2022  Non-Hispanic White, single race                          -1.500000   \n",
       "3   2020  Non-Hispanic Black, single race                           5.395916   \n",
       "4   2021  Non-Hispanic Black, single race                          -2.900000   \n",
       "5   2022  Non-Hispanic Black, single race                          -2.508096   \n",
       "6   2020  Non-Hispanic Asian, single race                           6.083687   \n",
       "7   2021  Non-Hispanic Asian, single race                          -3.833699   \n",
       "8   2022  Non-Hispanic Asian, single race                          -2.203571   \n",
       "9   2020               Hispanic or Latino                           6.168662   \n",
       "10  2021               Hispanic or Latino                          -3.704390   \n",
       "11  2022               Hispanic or Latino                          -2.583237   \n",
       "\n",
       "    total_unemployed_change  \n",
       "0                 4931000.0  \n",
       "1                -3236000.0  \n",
       "2                -1805000.0  \n",
       "3                 1053000.0  \n",
       "4                 -548000.0  \n",
       "5                 -457000.0  \n",
       "6                  613000.0  \n",
       "7                 -365000.0  \n",
       "8                 -224000.0  \n",
       "9                 1771000.0  \n",
       "10               -1025000.0  \n",
       "11                -692000.0  "
      ]
     },
     "execution_count": 206,
     "metadata": {},
     "output_type": "execute_result"
    }
   ],
   "source": [
    "unemp_v3.head(12)"
   ]
  },
  {
   "cell_type": "markdown",
   "id": "048f4f47",
   "metadata": {},
   "source": [
    "# 3.) Merge the unemployment information onto the mental health score information\n"
   ]
  },
  {
   "cell_type": "code",
   "execution_count": 224,
   "id": "98bc5bd9",
   "metadata": {},
   "outputs": [],
   "source": [
    "re_sub['Year'] = re_sub['Start'].dt.year"
   ]
  },
  {
   "cell_type": "code",
   "execution_count": 228,
   "id": "3b743343",
   "metadata": {},
   "outputs": [],
   "source": [
    "merge = pd.merge(re_sub, unemp_v3, left_on=['Year','Subgroup'], right_on=['Year','Race'])"
   ]
  },
  {
   "cell_type": "code",
   "execution_count": 229,
   "id": "96cd5e9b",
   "metadata": {},
   "outputs": [
    {
     "data": {
      "text/html": [
       "<div>\n",
       "<style scoped>\n",
       "    .dataframe tbody tr th:only-of-type {\n",
       "        vertical-align: middle;\n",
       "    }\n",
       "\n",
       "    .dataframe tbody tr th {\n",
       "        vertical-align: top;\n",
       "    }\n",
       "\n",
       "    .dataframe thead th {\n",
       "        text-align: right;\n",
       "    }\n",
       "</style>\n",
       "<table border=\"1\" class=\"dataframe\">\n",
       "  <thead>\n",
       "    <tr style=\"text-align: right;\">\n",
       "      <th></th>\n",
       "      <th>Indicator</th>\n",
       "      <th>Group</th>\n",
       "      <th>State</th>\n",
       "      <th>Subgroup</th>\n",
       "      <th>Phase</th>\n",
       "      <th>Time Period</th>\n",
       "      <th>Time Period Label</th>\n",
       "      <th>Start</th>\n",
       "      <th>End</th>\n",
       "      <th>Value</th>\n",
       "      <th>Low CI</th>\n",
       "      <th>High CI</th>\n",
       "      <th>Confidence Interval</th>\n",
       "      <th>Quartile Range</th>\n",
       "      <th>Year</th>\n",
       "      <th>Race</th>\n",
       "      <th>weighted_unemployment_rate_change</th>\n",
       "      <th>total_unemployed_change</th>\n",
       "    </tr>\n",
       "  </thead>\n",
       "  <tbody>\n",
       "    <tr>\n",
       "      <th>0</th>\n",
       "      <td>Symptoms of Depressive Disorder</td>\n",
       "      <td>By Race/Hispanic ethnicity</td>\n",
       "      <td>United States</td>\n",
       "      <td>Hispanic or Latino</td>\n",
       "      <td>1</td>\n",
       "      <td>1</td>\n",
       "      <td>Apr 23 - May 5, 2020</td>\n",
       "      <td>2020-04-23</td>\n",
       "      <td>2020-05-05</td>\n",
       "      <td>29.4</td>\n",
       "      <td>26.8</td>\n",
       "      <td>32.1</td>\n",
       "      <td>26.8 - 32.1</td>\n",
       "      <td>NaN</td>\n",
       "      <td>2020</td>\n",
       "      <td>Hispanic or Latino</td>\n",
       "      <td>6.168662</td>\n",
       "      <td>1771000.0</td>\n",
       "    </tr>\n",
       "    <tr>\n",
       "      <th>1</th>\n",
       "      <td>Symptoms of Anxiety Disorder</td>\n",
       "      <td>By Race/Hispanic ethnicity</td>\n",
       "      <td>United States</td>\n",
       "      <td>Hispanic or Latino</td>\n",
       "      <td>1</td>\n",
       "      <td>1</td>\n",
       "      <td>Apr 23 - May 5, 2020</td>\n",
       "      <td>2020-04-23</td>\n",
       "      <td>2020-05-05</td>\n",
       "      <td>36.3</td>\n",
       "      <td>33.4</td>\n",
       "      <td>39.2</td>\n",
       "      <td>33.4 - 39.2</td>\n",
       "      <td>NaN</td>\n",
       "      <td>2020</td>\n",
       "      <td>Hispanic or Latino</td>\n",
       "      <td>6.168662</td>\n",
       "      <td>1771000.0</td>\n",
       "    </tr>\n",
       "    <tr>\n",
       "      <th>2</th>\n",
       "      <td>Symptoms of Anxiety Disorder or Depressive Dis...</td>\n",
       "      <td>By Race/Hispanic ethnicity</td>\n",
       "      <td>United States</td>\n",
       "      <td>Hispanic or Latino</td>\n",
       "      <td>1</td>\n",
       "      <td>1</td>\n",
       "      <td>Apr 23 - May 5, 2020</td>\n",
       "      <td>2020-04-23</td>\n",
       "      <td>2020-05-05</td>\n",
       "      <td>42.7</td>\n",
       "      <td>39.7</td>\n",
       "      <td>45.7</td>\n",
       "      <td>39.7 - 45.7</td>\n",
       "      <td>NaN</td>\n",
       "      <td>2020</td>\n",
       "      <td>Hispanic or Latino</td>\n",
       "      <td>6.168662</td>\n",
       "      <td>1771000.0</td>\n",
       "    </tr>\n",
       "    <tr>\n",
       "      <th>3</th>\n",
       "      <td>Symptoms of Depressive Disorder</td>\n",
       "      <td>By Race/Hispanic ethnicity</td>\n",
       "      <td>United States</td>\n",
       "      <td>Hispanic or Latino</td>\n",
       "      <td>1</td>\n",
       "      <td>2</td>\n",
       "      <td>May 7 - May 12, 2020</td>\n",
       "      <td>2020-05-07</td>\n",
       "      <td>2020-05-12</td>\n",
       "      <td>27.9</td>\n",
       "      <td>24.4</td>\n",
       "      <td>31.6</td>\n",
       "      <td>24.4 - 31.6</td>\n",
       "      <td>NaN</td>\n",
       "      <td>2020</td>\n",
       "      <td>Hispanic or Latino</td>\n",
       "      <td>6.168662</td>\n",
       "      <td>1771000.0</td>\n",
       "    </tr>\n",
       "    <tr>\n",
       "      <th>4</th>\n",
       "      <td>Symptoms of Anxiety Disorder</td>\n",
       "      <td>By Race/Hispanic ethnicity</td>\n",
       "      <td>United States</td>\n",
       "      <td>Hispanic or Latino</td>\n",
       "      <td>1</td>\n",
       "      <td>2</td>\n",
       "      <td>May 7 - May 12, 2020</td>\n",
       "      <td>2020-05-07</td>\n",
       "      <td>2020-05-12</td>\n",
       "      <td>36.2</td>\n",
       "      <td>32.6</td>\n",
       "      <td>39.9</td>\n",
       "      <td>32.6 - 39.9</td>\n",
       "      <td>NaN</td>\n",
       "      <td>2020</td>\n",
       "      <td>Hispanic or Latino</td>\n",
       "      <td>6.168662</td>\n",
       "      <td>1771000.0</td>\n",
       "    </tr>\n",
       "  </tbody>\n",
       "</table>\n",
       "</div>"
      ],
      "text/plain": [
       "                                           Indicator  \\\n",
       "0                    Symptoms of Depressive Disorder   \n",
       "1                       Symptoms of Anxiety Disorder   \n",
       "2  Symptoms of Anxiety Disorder or Depressive Dis...   \n",
       "3                    Symptoms of Depressive Disorder   \n",
       "4                       Symptoms of Anxiety Disorder   \n",
       "\n",
       "                        Group          State            Subgroup Phase  \\\n",
       "0  By Race/Hispanic ethnicity  United States  Hispanic or Latino     1   \n",
       "1  By Race/Hispanic ethnicity  United States  Hispanic or Latino     1   \n",
       "2  By Race/Hispanic ethnicity  United States  Hispanic or Latino     1   \n",
       "3  By Race/Hispanic ethnicity  United States  Hispanic or Latino     1   \n",
       "4  By Race/Hispanic ethnicity  United States  Hispanic or Latino     1   \n",
       "\n",
       "   Time Period     Time Period Label      Start        End  Value  Low CI  \\\n",
       "0            1  Apr 23 - May 5, 2020 2020-04-23 2020-05-05   29.4    26.8   \n",
       "1            1  Apr 23 - May 5, 2020 2020-04-23 2020-05-05   36.3    33.4   \n",
       "2            1  Apr 23 - May 5, 2020 2020-04-23 2020-05-05   42.7    39.7   \n",
       "3            2  May 7 - May 12, 2020 2020-05-07 2020-05-12   27.9    24.4   \n",
       "4            2  May 7 - May 12, 2020 2020-05-07 2020-05-12   36.2    32.6   \n",
       "\n",
       "   High CI Confidence Interval Quartile Range  Year                Race  \\\n",
       "0     32.1         26.8 - 32.1            NaN  2020  Hispanic or Latino   \n",
       "1     39.2         33.4 - 39.2            NaN  2020  Hispanic or Latino   \n",
       "2     45.7         39.7 - 45.7            NaN  2020  Hispanic or Latino   \n",
       "3     31.6         24.4 - 31.6            NaN  2020  Hispanic or Latino   \n",
       "4     39.9         32.6 - 39.9            NaN  2020  Hispanic or Latino   \n",
       "\n",
       "   weighted_unemployment_rate_change  total_unemployed_change  \n",
       "0                           6.168662                1771000.0  \n",
       "1                           6.168662                1771000.0  \n",
       "2                           6.168662                1771000.0  \n",
       "3                           6.168662                1771000.0  \n",
       "4                           6.168662                1771000.0  "
      ]
     },
     "execution_count": 229,
     "metadata": {},
     "output_type": "execute_result"
    }
   ],
   "source": [
    "merge.head()"
   ]
  },
  {
   "cell_type": "code",
   "execution_count": 230,
   "id": "beef3ef8",
   "metadata": {},
   "outputs": [],
   "source": [
    "merge.to_csv('wrangled_data_v1.csv')"
   ]
  },
  {
   "cell_type": "markdown",
   "id": "89c26502",
   "metadata": {},
   "source": [
    "## Summary: There is a lot of important information included in the two data sources; the mental health survey information contains information on race/ethnicity and mental health survey scores over three years, while the BLS summary contains the unemployment rate changes and unemployment amount changes in the same three years.  Together, this makes a dataframe with valuable information on economic and mentalh health related information"
   ]
  }
 ],
 "metadata": {
  "kernelspec": {
   "display_name": "Python 3 (ipykernel)",
   "language": "python",
   "name": "python3"
  },
  "language_info": {
   "codemirror_mode": {
    "name": "ipython",
    "version": 3
   },
   "file_extension": ".py",
   "mimetype": "text/x-python",
   "name": "python",
   "nbconvert_exporter": "python",
   "pygments_lexer": "ipython3",
   "version": "3.11.7"
  }
 },
 "nbformat": 4,
 "nbformat_minor": 5
}
