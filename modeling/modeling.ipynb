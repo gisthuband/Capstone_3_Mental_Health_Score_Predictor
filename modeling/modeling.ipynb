{
 "cells": [
  {
   "cell_type": "markdown",
   "id": "ee6933bb",
   "metadata": {},
   "source": [
    "# Modeling\n",
    "\n",
    "This notebook is the final installment in this capstone project.\n",
    "\n",
    "Here are the links to the other notebooks:\n",
    "\n",
    "Data Wrangle https://github.com/gisthuband/Capstone_3_Mental_Health_Score_Predictor/blob/main/data_wrangle/data_wrangle.ipynb\n",
    "\n",
    "Exploratory Data Analysis https://github.com/gisthuband/Capstone_3_Mental_Health_Score_Predictor/blob/main/exploratory_data_analysis/exploratory_data_analysis.ipynb\n",
    "\n",
    "Preprocessing https://github.com/gisthuband/Capstone_3_Mental_Health_Score_Predictor/blob/main/preprocessing/preprocessing.ipynb\n",
    "\n",
    "This project will be used to predict the mental health scores of individuals based on race/ethnicity, the unemployment rate change, and the unemployment change.\n",
    "\n",
    "Inputs: Race/Ethnicity, unemployment rate change, unemployment change\n",
    "\n",
    "Outputs: Mental Health Score\n",
    "\n",
    "In this notebook I will run through several regression models:\n",
    "\n",
    "1.) Linear Regression\n",
    "\n",
    "2.) Ridge regression\n",
    "\n",
    "3.) Lasso Regression\n",
    "\n",
    "4.) Random Forest Regression\n",
    "\n",
    "5.) K Nearest Neighbors\n",
    "\n",
    "6.) Gradient Boosting\n",
    "\n",
    "7.) Linear Support Vector Regression\n",
    "\n",
    "8.) Deep Neural Network\n",
    "\n",
    "Use R Squared and RMSE as the metrics for the models"
   ]
  },
  {
   "cell_type": "markdown",
   "id": "4fbc5f8a",
   "metadata": {},
   "source": [
    "## Imports"
   ]
  },
  {
   "cell_type": "code",
   "execution_count": 1,
   "id": "297a4f1c",
   "metadata": {},
   "outputs": [],
   "source": [
    "from sklearn import preprocessing\n",
    "from sklearn.metrics import precision_recall_curve\n",
    "from sklearn.metrics import f1_score\n",
    "from sklearn.metrics import auc\n",
    "from sklearn.linear_model import LogisticRegression\n",
    "from matplotlib import pyplot\n",
    "from sklearn.metrics import precision_recall_curve\n",
    "from sklearn.metrics import precision_score\n",
    "from sklearn.metrics import recall_score\n",
    "from sklearn.metrics import f1_score\n",
    "from sklearn.metrics import auc\n",
    "from sklearn.linear_model import LogisticRegression\n",
    "from sklearn.metrics import classification_report,confusion_matrix,roc_curve,roc_auc_score\n",
    "from sklearn.metrics import accuracy_score,log_loss\n",
    "from matplotlib import pyplot\n",
    "from sklearn.ensemble import RandomForestClassifier\n",
    "from sklearn.model_selection import train_test_split\n",
    "import pandas as pd\n",
    "import numpy as np\n",
    "import scipy\n",
    "import matplotlib.pyplot as plt\n",
    "from sklearn import tree\n",
    "from IPython.display import Image\n",
    "%matplotlib inline\n",
    "from sklearn import preprocessing\n",
    "from sklearn.ensemble import GradientBoostingClassifier\n",
    "from sklearn.metrics import classification_report, confusion_matrix, roc_curve, auc\n",
    "from sklearn.neighbors import KNeighborsClassifier\n",
    "from sklearn.preprocessing import minmax_scale\n",
    "from sklearn.model_selection import GridSearchCV\n",
    "import sklearn\n",
    "from sklearn import metrics\n",
    "import tensorflow as tf\n",
    "import tensorflow.keras as keras\n",
    "import statsmodels.api as sm \n",
    "from sklearn.linear_model import RidgeCV\n",
    "from sklearn.linear_model import LassoCV\n",
    "from sklearn.ensemble import RandomForestRegressor\n",
    "from sklearn.neighbors import KNeighborsRegressor\n",
    "from sklearn.ensemble import GradientBoostingRegressor\n",
    "from sklearn.svm import LinearSVR\n",
    "from sklearn.metrics import mean_squared_error"
   ]
  },
  {
   "cell_type": "markdown",
   "id": "60b7deb0",
   "metadata": {},
   "source": [
    "## Preprocessing Class"
   ]
  },
  {
   "cell_type": "code",
   "execution_count": 2,
   "id": "1426e1de",
   "metadata": {},
   "outputs": [],
   "source": [
    "class preprocess:\n",
    "    def __init__(self, df_path):\n",
    "        self.df_path = df_path\n",
    "    \n",
    "    #1\n",
    "    def numeric_only(df_path):\n",
    "        \n",
    "        df = pd.read_csv(df_path)\n",
    "\n",
    "        df = df.drop(columns='Unnamed: 0')\n",
    "\n",
    "        df = df.drop(columns=['Date','Year','Indicator','Subgroup'])\n",
    "        \n",
    "        features = list(df.columns[df.columns != 'Value'])\n",
    "\n",
    "        X = df[features]\n",
    "        \n",
    "        y = df['Value']\n",
    "        \n",
    "        X_train, X_test, y_train, y_test = train_test_split(X, y, test_size=.2, random_state=5)\n",
    "        \n",
    "        return X_train, X_test, y_train, y_test\n",
    "    \n",
    "    \n",
    "    #2\n",
    "    def numeric_with_constant(df_path):\n",
    "        \n",
    "        df = pd.read_csv(df_path)\n",
    "\n",
    "        df = df.drop(columns='Unnamed: 0')\n",
    "\n",
    "        df = df.drop(columns=['Date','Year','Indicator','Subgroup'])\n",
    "        \n",
    "        features = list(df.columns[df.columns != 'Value'])\n",
    "\n",
    "        X = df[features]\n",
    "        X = sm.add_constant(X)\n",
    "        \n",
    "        y = df['Value']\n",
    "        \n",
    "        X_train, X_test, y_train, y_test = train_test_split(X, y, test_size=.2, random_state=5)\n",
    "        \n",
    "        return X_train, X_test, y_train, y_test\n",
    "    \n",
    "    #3\n",
    "    def numeric_standardized(df_path):\n",
    "        \n",
    "        df = pd.read_csv(df_path)\n",
    "\n",
    "        df = df.drop(columns='Unnamed: 0')\n",
    "\n",
    "        df = df.drop(columns=['Date','Year','Indicator','Subgroup'])\n",
    "        \n",
    "        features = list(df.columns[df.columns != 'Value'])\n",
    "\n",
    "        X = df[features]\n",
    "        \n",
    "        y = df['Value']\n",
    "        \n",
    "        X_train, X_test, y_train, y_test = train_test_split(X, y, test_size=.2, random_state=13)\n",
    "        \n",
    "        s_scaler = preprocessing.StandardScaler().fit(X_train)\n",
    "        \n",
    "        X_train=s_scaler.transform(X_train)\n",
    "        \n",
    "        X_test=s_scaler.transform(X_test)\n",
    "        \n",
    "        return X_train, X_test, y_train, y_test\n",
    "    \n",
    "    #4\n",
    "    def dummied(df_path):\n",
    "        \n",
    "        df = pd.read_csv(df_path)\n",
    "\n",
    "        df = df.drop(columns='Unnamed: 0')\n",
    "        \n",
    "        df = df.drop(columns=['Date','Year'])\n",
    "        \n",
    "        dum_df = pd.get_dummies(df[['Indicator','Subgroup']])        \n",
    "        \n",
    "        dummed_df = pd.concat([df, dum_df],axis=1)\n",
    "\n",
    "        dummed_df = dummed_df.drop(columns=['Indicator','Subgroup'])\n",
    "        \n",
    "        features = list(dummed_df.columns[dummed_df.columns != 'Value'])\n",
    "        \n",
    "        X = dummed_df[features]\n",
    "\n",
    "        y = dummed_df['Value']\n",
    "\n",
    "        X_train, X_test, y_train, y_test = train_test_split(X, y, test_size=.2)\n",
    "        \n",
    "        return X_train, X_test, y_train, y_test\n",
    "    #5\n",
    "    def dummied_with_constant(df_path):\n",
    "        \n",
    "        df = pd.read_csv(df_path)\n",
    "\n",
    "        df = df.drop(columns='Unnamed: 0')\n",
    "        \n",
    "        df = df.drop(columns=['Date','Year'])\n",
    "        \n",
    "        dum_df = pd.get_dummies(df[['Indicator','Subgroup']])        \n",
    "        \n",
    "        dummed_df = pd.concat([df, dum_df],axis=1)\n",
    "\n",
    "        dummed_df = dummed_df.drop(columns=['Indicator','Subgroup'])\n",
    "        \n",
    "        features = list(dummed_df.columns[dummed_df.columns != 'Value'])\n",
    "        \n",
    "        X = dummed_df[features]\n",
    "        X = sm.add_constant(X)\n",
    "\n",
    "        y = dummed_df['Value']\n",
    "\n",
    "        X_train, X_test, y_train, y_test = train_test_split(X, y, test_size=.2)\n",
    "        \n",
    "        return X_train, X_test, y_train, y_test\n",
    "    \n",
    "    #6\n",
    "    def dummied_standardized(df_path):\n",
    "        \n",
    "        df = pd.read_csv(df_path)\n",
    "\n",
    "        df = df.drop(columns='Unnamed: 0')\n",
    "        \n",
    "        df = df.drop(columns=['Date','Year'])\n",
    "        \n",
    "        dum_df = pd.get_dummies(df[['Indicator','Subgroup']])        \n",
    "        \n",
    "        dummed_df = pd.concat([df, dum_df],axis=1)\n",
    "\n",
    "        dummed_df = dummed_df.drop(columns=['Indicator','Subgroup'])\n",
    "        \n",
    "        features = list(dummed_df.columns[dummed_df.columns != 'Value'])\n",
    "        \n",
    "        X = dummed_df[features]\n",
    "\n",
    "        y = dummed_df['Value']\n",
    "\n",
    "        X_train, X_test, y_train, y_test = train_test_split(X, y, test_size=.2)\n",
    "        \n",
    "        s_scaler = preprocessing.StandardScaler().fit(X_train)\n",
    "        \n",
    "        X_train=s_scaler.transform(X_train)\n",
    "        \n",
    "        X_test=s_scaler.transform(X_test)\n",
    "        \n",
    "        return X_train, X_test, y_train, y_test\n",
    "        \n",
    "    \n",
    "    #7\n",
    "    def random_label_numeric_only(df_path):\n",
    "        \n",
    "        df = pd.read_csv(df_path)\n",
    "\n",
    "        df = df.drop(columns='Unnamed: 0')\n",
    "\n",
    "        df = df.drop(columns=['Date','Year','Indicator','Subgroup'])\n",
    "        \n",
    "        rng = np.random.default_rng()\n",
    "        \n",
    "        rand_scores = list(rng.integers(low=0, high=48, size=len(df))) \n",
    "        \n",
    "        df['random_values'] = rand_scores\n",
    "        \n",
    "        df = df.drop(columns='Value')\n",
    "        \n",
    "        features = list(df.columns[df.columns != 'random_values'])\n",
    "\n",
    "        X = df[features]\n",
    "        \n",
    "        y = df['random_values']\n",
    "        \n",
    "        X_train, X_test, y_train, y_test = train_test_split(X, y, test_size=.2, random_state=6)\n",
    "        \n",
    "        return X_train, X_test, y_train, y_test\n",
    "    \n",
    "    #8\n",
    "    def random_label_dum(df_path):\n",
    "        \n",
    "        df = pd.read_csv(df_path)\n",
    "\n",
    "        df = df.drop(columns='Unnamed: 0')\n",
    "        \n",
    "        df = df.drop(columns=['Date','Year'])\n",
    "        \n",
    "        dum_df = pd.get_dummies(df[['Indicator','Subgroup']])        \n",
    "        \n",
    "        dummed_df = pd.concat([df, dum_df],axis=1)\n",
    "\n",
    "        dummed_df = dummed_df.drop(columns=['Indicator','Subgroup'])\n",
    "        \n",
    "        rng = np.random.default_rng()\n",
    "        \n",
    "        rand_scores = list(rng.integers(low=0, high=48, size=len(df))) \n",
    "        \n",
    "        dummed_df['random_values'] = rand_scores\n",
    "        \n",
    "        dummed_df = dummed_df.drop(columns='Value')\n",
    "        \n",
    "        features = list(dummed_df.columns[dummed_df.columns != 'random_values'])\n",
    "\n",
    "        X = dummed_df[features]\n",
    "        \n",
    "        y = dummed_df['random_values']\n",
    "        \n",
    "        X_train, X_test, y_train, y_test = train_test_split(X, y, test_size=.2, random_state=9)\n",
    "        \n",
    "        return X_train, X_test, y_train, y_test"
   ]
  },
  {
   "cell_type": "markdown",
   "id": "a6060ece",
   "metadata": {},
   "source": [
    "## Instantiate a list to contain the model results"
   ]
  },
  {
   "cell_type": "code",
   "execution_count": 3,
   "id": "9796e09f",
   "metadata": {},
   "outputs": [],
   "source": [
    "models_keys = ['Ordinary_Least_Squares','Ridge','Lasso','Random_Forest','K_Neighbors','Gradient_Boosting','Support_Vector_Machine','Deep_Neural_Network']\n",
    "models_values = []\n",
    "best_model_results = {}"
   ]
  },
  {
   "cell_type": "markdown",
   "id": "ad5b69c4",
   "metadata": {},
   "source": [
    "# 1.) Linear Regression (multivariable with OLS)"
   ]
  },
  {
   "cell_type": "code",
   "execution_count": 4,
   "id": "42a0ef21",
   "metadata": {
    "scrolled": true
   },
   "outputs": [
    {
     "data": {
      "text/html": [
       "<table class=\"simpletable\">\n",
       "<caption>OLS Regression Results</caption>\n",
       "<tr>\n",
       "  <th>Dep. Variable:</th>          <td>Value</td>      <th>  R-squared:         </th> <td>   0.117</td>\n",
       "</tr>\n",
       "<tr>\n",
       "  <th>Model:</th>                   <td>OLS</td>       <th>  Adj. R-squared:    </th> <td>   0.114</td>\n",
       "</tr>\n",
       "<tr>\n",
       "  <th>Method:</th>             <td>Least Squares</td>  <th>  F-statistic:       </th> <td>   36.69</td>\n",
       "</tr>\n",
       "<tr>\n",
       "  <th>Date:</th>             <td>Mon, 29 Jul 2024</td> <th>  Prob (F-statistic):</th> <td>1.09e-15</td>\n",
       "</tr>\n",
       "<tr>\n",
       "  <th>Time:</th>                 <td>21:19:48</td>     <th>  Log-Likelihood:    </th> <td> -1812.0</td>\n",
       "</tr>\n",
       "<tr>\n",
       "  <th>No. Observations:</th>      <td>   556</td>      <th>  AIC:               </th> <td>   3630.</td>\n",
       "</tr>\n",
       "<tr>\n",
       "  <th>Df Residuals:</th>          <td>   553</td>      <th>  BIC:               </th> <td>   3643.</td>\n",
       "</tr>\n",
       "<tr>\n",
       "  <th>Df Model:</th>              <td>     2</td>      <th>                     </th>     <td> </td>   \n",
       "</tr>\n",
       "<tr>\n",
       "  <th>Covariance Type:</th>      <td>nonrobust</td>    <th>                     </th>     <td> </td>   \n",
       "</tr>\n",
       "</table>\n",
       "<table class=\"simpletable\">\n",
       "<tr>\n",
       "                  <td></td>                     <th>coef</th>     <th>std err</th>      <th>t</th>      <th>P>|t|</th>  <th>[0.025</th>    <th>0.975]</th>  \n",
       "</tr>\n",
       "<tr>\n",
       "  <th>const</th>                             <td>   29.4587</td> <td>    0.269</td> <td>  109.420</td> <td> 0.000</td> <td>   28.930</td> <td>   29.988</td>\n",
       "</tr>\n",
       "<tr>\n",
       "  <th>weighted_unemployment_rate_change</th> <td>    0.5762</td> <td>    0.088</td> <td>    6.568</td> <td> 0.000</td> <td>    0.404</td> <td>    0.748</td>\n",
       "</tr>\n",
       "<tr>\n",
       "  <th>total_unemployed_change</th>           <td>-6.789e-08</td> <td> 1.74e-07</td> <td>   -0.390</td> <td> 0.697</td> <td> -4.1e-07</td> <td> 2.74e-07</td>\n",
       "</tr>\n",
       "</table>\n",
       "<table class=\"simpletable\">\n",
       "<tr>\n",
       "  <th>Omnibus:</th>       <td> 5.665</td> <th>  Durbin-Watson:     </th> <td>   1.907</td>\n",
       "</tr>\n",
       "<tr>\n",
       "  <th>Prob(Omnibus):</th> <td> 0.059</td> <th>  Jarque-Bera (JB):  </th> <td>   4.452</td>\n",
       "</tr>\n",
       "<tr>\n",
       "  <th>Skew:</th>          <td> 0.113</td> <th>  Prob(JB):          </th> <td>   0.108</td>\n",
       "</tr>\n",
       "<tr>\n",
       "  <th>Kurtosis:</th>      <td> 2.624</td> <th>  Cond. No.          </th> <td>2.11e+06</td>\n",
       "</tr>\n",
       "</table><br/><br/>Notes:<br/>[1] Standard Errors assume that the covariance matrix of the errors is correctly specified.<br/>[2] The condition number is large, 2.11e+06. This might indicate that there are<br/>strong multicollinearity or other numerical problems."
      ],
      "text/latex": [
       "\\begin{center}\n",
       "\\begin{tabular}{lclc}\n",
       "\\toprule\n",
       "\\textbf{Dep. Variable:}                       &      Value       & \\textbf{  R-squared:         } &     0.117   \\\\\n",
       "\\textbf{Model:}                               &       OLS        & \\textbf{  Adj. R-squared:    } &     0.114   \\\\\n",
       "\\textbf{Method:}                              &  Least Squares   & \\textbf{  F-statistic:       } &     36.69   \\\\\n",
       "\\textbf{Date:}                                & Mon, 29 Jul 2024 & \\textbf{  Prob (F-statistic):} &  1.09e-15   \\\\\n",
       "\\textbf{Time:}                                &     21:19:48     & \\textbf{  Log-Likelihood:    } &   -1812.0   \\\\\n",
       "\\textbf{No. Observations:}                    &         556      & \\textbf{  AIC:               } &     3630.   \\\\\n",
       "\\textbf{Df Residuals:}                        &         553      & \\textbf{  BIC:               } &     3643.   \\\\\n",
       "\\textbf{Df Model:}                            &           2      & \\textbf{                     } &             \\\\\n",
       "\\textbf{Covariance Type:}                     &    nonrobust     & \\textbf{                     } &             \\\\\n",
       "\\bottomrule\n",
       "\\end{tabular}\n",
       "\\begin{tabular}{lcccccc}\n",
       "                                              & \\textbf{coef} & \\textbf{std err} & \\textbf{t} & \\textbf{P$> |$t$|$} & \\textbf{[0.025} & \\textbf{0.975]}  \\\\\n",
       "\\midrule\n",
       "\\textbf{const}                                &      29.4587  &        0.269     &   109.420  &         0.000        &       28.930    &       29.988     \\\\\n",
       "\\textbf{weighted\\_unemployment\\_rate\\_change} &       0.5762  &        0.088     &     6.568  &         0.000        &        0.404    &        0.748     \\\\\n",
       "\\textbf{total\\_unemployed\\_change}            &   -6.789e-08  &     1.74e-07     &    -0.390  &         0.697        &     -4.1e-07    &     2.74e-07     \\\\\n",
       "\\bottomrule\n",
       "\\end{tabular}\n",
       "\\begin{tabular}{lclc}\n",
       "\\textbf{Omnibus:}       &  5.665 & \\textbf{  Durbin-Watson:     } &    1.907  \\\\\n",
       "\\textbf{Prob(Omnibus):} &  0.059 & \\textbf{  Jarque-Bera (JB):  } &    4.452  \\\\\n",
       "\\textbf{Skew:}          &  0.113 & \\textbf{  Prob(JB):          } &    0.108  \\\\\n",
       "\\textbf{Kurtosis:}      &  2.624 & \\textbf{  Cond. No.          } & 2.11e+06  \\\\\n",
       "\\bottomrule\n",
       "\\end{tabular}\n",
       "%\\caption{OLS Regression Results}\n",
       "\\end{center}\n",
       "\n",
       "Notes: \\newline\n",
       " [1] Standard Errors assume that the covariance matrix of the errors is correctly specified. \\newline\n",
       " [2] The condition number is large, 2.11e+06. This might indicate that there are \\newline\n",
       " strong multicollinearity or other numerical problems."
      ],
      "text/plain": [
       "<class 'statsmodels.iolib.summary.Summary'>\n",
       "\"\"\"\n",
       "                            OLS Regression Results                            \n",
       "==============================================================================\n",
       "Dep. Variable:                  Value   R-squared:                       0.117\n",
       "Model:                            OLS   Adj. R-squared:                  0.114\n",
       "Method:                 Least Squares   F-statistic:                     36.69\n",
       "Date:                Mon, 29 Jul 2024   Prob (F-statistic):           1.09e-15\n",
       "Time:                        21:19:48   Log-Likelihood:                -1812.0\n",
       "No. Observations:                 556   AIC:                             3630.\n",
       "Df Residuals:                     553   BIC:                             3643.\n",
       "Df Model:                           2                                         \n",
       "Covariance Type:            nonrobust                                         \n",
       "=====================================================================================================\n",
       "                                        coef    std err          t      P>|t|      [0.025      0.975]\n",
       "-----------------------------------------------------------------------------------------------------\n",
       "const                                29.4587      0.269    109.420      0.000      28.930      29.988\n",
       "weighted_unemployment_rate_change     0.5762      0.088      6.568      0.000       0.404       0.748\n",
       "total_unemployed_change           -6.789e-08   1.74e-07     -0.390      0.697    -4.1e-07    2.74e-07\n",
       "==============================================================================\n",
       "Omnibus:                        5.665   Durbin-Watson:                   1.907\n",
       "Prob(Omnibus):                  0.059   Jarque-Bera (JB):                4.452\n",
       "Skew:                           0.113   Prob(JB):                        0.108\n",
       "Kurtosis:                       2.624   Cond. No.                     2.11e+06\n",
       "==============================================================================\n",
       "\n",
       "Notes:\n",
       "[1] Standard Errors assume that the covariance matrix of the errors is correctly specified.\n",
       "[2] The condition number is large, 2.11e+06. This might indicate that there are\n",
       "strong multicollinearity or other numerical problems.\n",
       "\"\"\""
      ]
     },
     "execution_count": 4,
     "metadata": {},
     "output_type": "execute_result"
    }
   ],
   "source": [
    "data = preprocess.numeric_with_constant('explored_data_v1.csv')\n",
    "model = sm.OLS(data[2], data[0])\n",
    "results = model.fit()\n",
    "results.summary()"
   ]
  },
  {
   "cell_type": "code",
   "execution_count": 5,
   "id": "fb666366",
   "metadata": {},
   "outputs": [
    {
     "name": "stdout",
     "output_type": "stream",
     "text": [
      "0.07267146928491486 6.034206296231276\n"
     ]
    }
   ],
   "source": [
    "y_pred = results.predict(data[1])\n",
    "y_true = data[3]\n",
    "\n",
    "sum_squares_residuals = sum((y_true - y_pred) ** 2)\n",
    "sum_squares = sum((y_true - np.mean(y_true)) ** 2)\n",
    "R2 = 1 - sum_squares_residuals / sum_squares\n",
    "\n",
    "rmse = (mean_squared_error(y_true, y_pred))**(1/2)\n",
    "\n",
    "OLS_results=[R2, rmse]\n",
    "\n",
    "models_values.append(OLS_results)\n",
    "\n",
    "print (R2, rmse)"
   ]
  },
  {
   "cell_type": "markdown",
   "id": "dca57af5",
   "metadata": {},
   "source": [
    "# 2.) Ridge Regression"
   ]
  },
  {
   "cell_type": "code",
   "execution_count": 6,
   "id": "69f8e517",
   "metadata": {},
   "outputs": [
    {
     "name": "stdout",
     "output_type": "stream",
     "text": [
      "accuracy: 0.7211014266984724, coefficients: [ 2.19117195  0.04605484  0.04647083  2.01967718 -2.07468315  1.89079918\n",
      " -2.45485473  0.92692265 -0.4477215 ]\n"
     ]
    }
   ],
   "source": [
    "data = preprocess.dummied_standardized('explored_data_v1.csv')\n",
    "model = RidgeCV(alphas=[1e-3, 1e-2, 1e-1, 1], cv=6, scoring='r2').fit(data[0], data[2])\n",
    "print (f'accuracy: {model.best_score_}, coefficients: {model.coef_ }')           "
   ]
  },
  {
   "cell_type": "code",
   "execution_count": 7,
   "id": "3bc2b599",
   "metadata": {},
   "outputs": [
    {
     "data": {
      "text/plain": [
       "1.0"
      ]
     },
     "execution_count": 7,
     "metadata": {},
     "output_type": "execute_result"
    }
   ],
   "source": [
    "model.alpha_"
   ]
  },
  {
   "cell_type": "code",
   "execution_count": 8,
   "id": "38617b80",
   "metadata": {},
   "outputs": [
    {
     "data": {
      "text/plain": [
       "0.7618651097541416"
      ]
     },
     "execution_count": 8,
     "metadata": {},
     "output_type": "execute_result"
    }
   ],
   "source": [
    "model.score(data[1], data[3])"
   ]
  },
  {
   "cell_type": "code",
   "execution_count": 9,
   "id": "8be5ba97",
   "metadata": {},
   "outputs": [],
   "source": [
    "y_pred =model.predict(data[1])"
   ]
  },
  {
   "cell_type": "code",
   "execution_count": 10,
   "id": "409b37b0",
   "metadata": {},
   "outputs": [
    {
     "data": {
      "image/png": "[encoded data removed]",
      "text/plain": [
       "<Figure size 640x480 with 1 Axes>"
      ]
     },
     "metadata": {},
     "output_type": "display_data"
    }
   ],
   "source": [
    "plt.scatter(data[3], y_pred)\n",
    "plt.xlabel('Actual')\n",
    "plt.ylabel('Predicted')\n",
    "plt.title(\"Ridge Regression comparison of predicted vs actual values\")\n",
    "plt.show()"
   ]
  },
  {
   "cell_type": "code",
   "execution_count": 11,
   "id": "dce0d3d0",
   "metadata": {},
   "outputs": [
    {
     "name": "stdout",
     "output_type": "stream",
     "text": [
      "0.7618651097541416 3.4324338433345303\n"
     ]
    }
   ],
   "source": [
    "y_true = data[3]\n",
    "\n",
    "sum_squares_residuals = sum((y_true - y_pred) ** 2)\n",
    "sum_squares = sum((y_true - np.mean(y_true)) ** 2)\n",
    "R2 = 1 - sum_squares_residuals / sum_squares\n",
    "\n",
    "rmse = (mean_squared_error(y_true, y_pred))**(1/2)\n",
    "\n",
    "Ridge_results=[R2, rmse]\n",
    "\n",
    "models_values.append(Ridge_results)\n",
    "\n",
    "print (R2, rmse)"
   ]
  },
  {
   "cell_type": "markdown",
   "id": "ed5e46dc",
   "metadata": {},
   "source": [
    "## Test bad randomized data with this technique"
   ]
  },
  {
   "cell_type": "code",
   "execution_count": 12,
   "id": "f8086d59",
   "metadata": {},
   "outputs": [
    {
     "name": "stdout",
     "output_type": "stream",
     "text": [
      "accuracy: -0.022271819449325214, coefficients: [-4.38562019e-02 -2.41232130e-07  1.94554554e-01 -1.35691381e+00\n",
      "  1.16235925e+00 -2.63011485e-01  5.72498777e-01  1.20318176e+00\n",
      " -1.51266905e+00]\n"
     ]
    },
    {
     "name": "stderr",
     "output_type": "stream",
     "text": [
      "/opt/anaconda3/lib/python3.11/site-packages/sklearn/linear_model/_ridge.py:216: LinAlgWarning: Ill-conditioned matrix (rcond=5.02247e-19): result may not be accurate.\n",
      "  return linalg.solve(A, Xy, assume_a=\"pos\", overwrite_a=True).T\n",
      "/opt/anaconda3/lib/python3.11/site-packages/sklearn/linear_model/_ridge.py:216: LinAlgWarning: Ill-conditioned matrix (rcond=4.96781e-19): result may not be accurate.\n",
      "  return linalg.solve(A, Xy, assume_a=\"pos\", overwrite_a=True).T\n",
      "/opt/anaconda3/lib/python3.11/site-packages/sklearn/linear_model/_ridge.py:216: LinAlgWarning: Ill-conditioned matrix (rcond=4.86432e-19): result may not be accurate.\n",
      "  return linalg.solve(A, Xy, assume_a=\"pos\", overwrite_a=True).T\n",
      "/opt/anaconda3/lib/python3.11/site-packages/sklearn/linear_model/_ridge.py:216: LinAlgWarning: Ill-conditioned matrix (rcond=4.85708e-19): result may not be accurate.\n",
      "  return linalg.solve(A, Xy, assume_a=\"pos\", overwrite_a=True).T\n",
      "/opt/anaconda3/lib/python3.11/site-packages/sklearn/linear_model/_ridge.py:216: LinAlgWarning: Ill-conditioned matrix (rcond=5.0168e-19): result may not be accurate.\n",
      "  return linalg.solve(A, Xy, assume_a=\"pos\", overwrite_a=True).T\n",
      "/opt/anaconda3/lib/python3.11/site-packages/sklearn/linear_model/_ridge.py:216: LinAlgWarning: Ill-conditioned matrix (rcond=5.17211e-19): result may not be accurate.\n",
      "  return linalg.solve(A, Xy, assume_a=\"pos\", overwrite_a=True).T\n",
      "/opt/anaconda3/lib/python3.11/site-packages/sklearn/linear_model/_ridge.py:216: LinAlgWarning: Ill-conditioned matrix (rcond=5.02245e-18): result may not be accurate.\n",
      "  return linalg.solve(A, Xy, assume_a=\"pos\", overwrite_a=True).T\n",
      "/opt/anaconda3/lib/python3.11/site-packages/sklearn/linear_model/_ridge.py:216: LinAlgWarning: Ill-conditioned matrix (rcond=4.96779e-18): result may not be accurate.\n",
      "  return linalg.solve(A, Xy, assume_a=\"pos\", overwrite_a=True).T\n",
      "/opt/anaconda3/lib/python3.11/site-packages/sklearn/linear_model/_ridge.py:216: LinAlgWarning: Ill-conditioned matrix (rcond=4.86429e-18): result may not be accurate.\n",
      "  return linalg.solve(A, Xy, assume_a=\"pos\", overwrite_a=True).T\n",
      "/opt/anaconda3/lib/python3.11/site-packages/sklearn/linear_model/_ridge.py:216: LinAlgWarning: Ill-conditioned matrix (rcond=4.85704e-18): result may not be accurate.\n",
      "  return linalg.solve(A, Xy, assume_a=\"pos\", overwrite_a=True).T\n",
      "/opt/anaconda3/lib/python3.11/site-packages/sklearn/linear_model/_ridge.py:216: LinAlgWarning: Ill-conditioned matrix (rcond=5.01679e-18): result may not be accurate.\n",
      "  return linalg.solve(A, Xy, assume_a=\"pos\", overwrite_a=True).T\n",
      "/opt/anaconda3/lib/python3.11/site-packages/sklearn/linear_model/_ridge.py:216: LinAlgWarning: Ill-conditioned matrix (rcond=5.1721e-18): result may not be accurate.\n",
      "  return linalg.solve(A, Xy, assume_a=\"pos\", overwrite_a=True).T\n",
      "/opt/anaconda3/lib/python3.11/site-packages/sklearn/linear_model/_ridge.py:216: LinAlgWarning: Ill-conditioned matrix (rcond=5.02223e-17): result may not be accurate.\n",
      "  return linalg.solve(A, Xy, assume_a=\"pos\", overwrite_a=True).T\n",
      "/opt/anaconda3/lib/python3.11/site-packages/sklearn/linear_model/_ridge.py:216: LinAlgWarning: Ill-conditioned matrix (rcond=4.96754e-17): result may not be accurate.\n",
      "  return linalg.solve(A, Xy, assume_a=\"pos\", overwrite_a=True).T\n",
      "/opt/anaconda3/lib/python3.11/site-packages/sklearn/linear_model/_ridge.py:216: LinAlgWarning: Ill-conditioned matrix (rcond=4.86406e-17): result may not be accurate.\n",
      "  return linalg.solve(A, Xy, assume_a=\"pos\", overwrite_a=True).T\n",
      "/opt/anaconda3/lib/python3.11/site-packages/sklearn/linear_model/_ridge.py:216: LinAlgWarning: Ill-conditioned matrix (rcond=4.85669e-17): result may not be accurate.\n",
      "  return linalg.solve(A, Xy, assume_a=\"pos\", overwrite_a=True).T\n",
      "/opt/anaconda3/lib/python3.11/site-packages/sklearn/linear_model/_ridge.py:216: LinAlgWarning: Ill-conditioned matrix (rcond=5.01663e-17): result may not be accurate.\n",
      "  return linalg.solve(A, Xy, assume_a=\"pos\", overwrite_a=True).T\n",
      "/opt/anaconda3/lib/python3.11/site-packages/sklearn/linear_model/_ridge.py:216: LinAlgWarning: Ill-conditioned matrix (rcond=5.17197e-17): result may not be accurate.\n",
      "  return linalg.solve(A, Xy, assume_a=\"pos\", overwrite_a=True).T\n"
     ]
    }
   ],
   "source": [
    "data = preprocess.random_label_dum('explored_data_v1.csv')\n",
    "model = RidgeCV(alphas=[1e-3, 1e-2, 1e-1, 1], cv=6, scoring='r2').fit(data[0], data[2])\n",
    "print (f'accuracy: {model.best_score_}, coefficients: {model.coef_ }')    "
   ]
  },
  {
   "cell_type": "markdown",
   "id": "8ebaca7a",
   "metadata": {},
   "source": [
    "Evidence that there are actual patterns in the data and that the machine learning model is not just getting lucky"
   ]
  },
  {
   "cell_type": "markdown",
   "id": "eed7fb12",
   "metadata": {},
   "source": [
    "# 3.) Lasso Regression"
   ]
  },
  {
   "cell_type": "code",
   "execution_count": 13,
   "id": "18f79ab8",
   "metadata": {},
   "outputs": [],
   "source": [
    "data = preprocess.dummied_standardized('explored_data_v1.csv')\n",
    "model = LassoCV(alphas=[.001, .01, .1, 1,10],max_iter = 1500, cv=5).fit(data[0],data[2])"
   ]
  },
  {
   "cell_type": "code",
   "execution_count": 14,
   "id": "0d413b9a",
   "metadata": {},
   "outputs": [
    {
     "data": {
      "text/plain": [
       "0.7292131359039776"
      ]
     },
     "execution_count": 14,
     "metadata": {},
     "output_type": "execute_result"
    }
   ],
   "source": [
    "model.score(data[1], data[3])"
   ]
  },
  {
   "cell_type": "code",
   "execution_count": 15,
   "id": "da7d62b8",
   "metadata": {},
   "outputs": [
    {
     "data": {
      "text/plain": [
       "0.01"
      ]
     },
     "execution_count": 15,
     "metadata": {},
     "output_type": "execute_result"
    }
   ],
   "source": [
    "model.alpha_"
   ]
  },
  {
   "cell_type": "code",
   "execution_count": 16,
   "id": "dc706261",
   "metadata": {},
   "outputs": [],
   "source": [
    "y_pred =model.predict(data[1])"
   ]
  },
  {
   "cell_type": "code",
   "execution_count": 17,
   "id": "4644fe31",
   "metadata": {},
   "outputs": [
    {
     "data": {
      "image/png": "[encoded data removed]",
      "text/plain": [
       "<Figure size 640x480 with 1 Axes>"
      ]
     },
     "metadata": {},
     "output_type": "display_data"
    }
   ],
   "source": [
    "plt.scatter(data[3], y_pred)\n",
    "plt.xlabel('Actual')\n",
    "plt.ylabel('Predicted')\n",
    "plt.title(\"Lasso Regression comparison of predicted vs actual values\")\n",
    "plt.show()"
   ]
  },
  {
   "cell_type": "code",
   "execution_count": 18,
   "id": "68cd4c6c",
   "metadata": {},
   "outputs": [
    {
     "name": "stdout",
     "output_type": "stream",
     "text": [
      "0.7292131359039775 3.4084677660601663\n"
     ]
    }
   ],
   "source": [
    "y_true = data[3]\n",
    "\n",
    "sum_squares_residuals = sum((y_true - y_pred) ** 2)\n",
    "sum_squares = sum((y_true - np.mean(y_true)) ** 2)\n",
    "R2 = 1 - sum_squares_residuals / sum_squares\n",
    "\n",
    "rmse = (mean_squared_error(y_true, y_pred))**(1/2)\n",
    "\n",
    "Lasso_results=[R2, rmse]\n",
    "\n",
    "models_values.append(Lasso_results)\n",
    "\n",
    "print (R2, rmse)"
   ]
  },
  {
   "cell_type": "markdown",
   "id": "b734e146",
   "metadata": {},
   "source": [
    "# 4.) Random Forest Regression"
   ]
  },
  {
   "cell_type": "code",
   "execution_count": 19,
   "id": "7bbf4550",
   "metadata": {},
   "outputs": [
    {
     "name": "stdout",
     "output_type": "stream",
     "text": [
      "{'criterion': 'friedman_mse', 'n_estimators': 50}\n",
      "0.7452344888283758\n"
     ]
    }
   ],
   "source": [
    "data = preprocess.dummied('explored_data_v1.csv')\n",
    "\n",
    "grid_params = {'n_estimators':[50, 75, 100, 125, 150, 200], 'criterion':['friedman_mse','squared_error'] }\n",
    "\n",
    "gscv_rfr = GridSearchCV(RandomForestRegressor(), param_grid=grid_params, cv=5, scoring='r2')\n",
    "\n",
    "rfr = gscv_rfr.fit(data[0],data[2])\n",
    "\n",
    "print (rfr.best_params_)\n",
    "print (rfr.best_score_)"
   ]
  },
  {
   "cell_type": "code",
   "execution_count": 20,
   "id": "3b7aa574",
   "metadata": {},
   "outputs": [
    {
     "data": {
      "text/plain": [
       "0.7048639543370023"
      ]
     },
     "execution_count": 20,
     "metadata": {},
     "output_type": "execute_result"
    }
   ],
   "source": [
    "rfr.score(data[1],data[3])"
   ]
  },
  {
   "cell_type": "code",
   "execution_count": 21,
   "id": "141b90df",
   "metadata": {},
   "outputs": [],
   "source": [
    "y_pred = rfr.predict(data[1])"
   ]
  },
  {
   "cell_type": "code",
   "execution_count": 22,
   "id": "5d5f834a",
   "metadata": {},
   "outputs": [
    {
     "data": {
      "image/png": "[encoded data removed]",
      "text/plain": [
       "<Figure size 640x480 with 1 Axes>"
      ]
     },
     "metadata": {},
     "output_type": "display_data"
    }
   ],
   "source": [
    "plt.scatter(data[3], y_pred)\n",
    "plt.xlabel('Actual')\n",
    "plt.ylabel('Predicted')\n",
    "plt.title(\"Random Forest Regression comparison of predicted vs actual values\")\n",
    "plt.show()"
   ]
  },
  {
   "cell_type": "code",
   "execution_count": 23,
   "id": "e2be1484",
   "metadata": {},
   "outputs": [
    {
     "name": "stdout",
     "output_type": "stream",
     "text": [
      "0.7048639543370024 3.382501886699642\n"
     ]
    }
   ],
   "source": [
    "y_true = data[3]\n",
    "\n",
    "sum_squares_residuals = sum((y_true - y_pred) ** 2)\n",
    "sum_squares = sum((y_true - np.mean(y_true)) ** 2)\n",
    "R2 = 1 - sum_squares_residuals / sum_squares\n",
    "\n",
    "rmse = (mean_squared_error(y_true, y_pred))**(1/2)\n",
    "\n",
    "Random_Forest_results=[R2, rmse]\n",
    "\n",
    "models_values.append(Random_Forest_results)\n",
    "\n",
    "print (R2, rmse)"
   ]
  },
  {
   "cell_type": "markdown",
   "id": "8d79b2a9",
   "metadata": {},
   "source": [
    "## Test with random labels"
   ]
  },
  {
   "cell_type": "code",
   "execution_count": 24,
   "id": "870c0c7c",
   "metadata": {},
   "outputs": [
    {
     "name": "stdout",
     "output_type": "stream",
     "text": [
      "{'criterion': 'squared_error', 'n_estimators': 125}\n",
      "-0.07139116190060057\n"
     ]
    }
   ],
   "source": [
    "data = preprocess.random_label_dum('explored_data_v1.csv')\n",
    "grid_params = {'n_estimators':[50, 75, 100, 125, 150, 200], 'criterion':['friedman_mse','squared_error'] }\n",
    "\n",
    "gscv_rfr_random = GridSearchCV(RandomForestRegressor(), param_grid=grid_params, cv=5, scoring='r2')\n",
    "\n",
    "rfr_random = gscv_rfr_random.fit(data[0],data[2])\n",
    "\n",
    "print (rfr_random.best_params_)\n",
    "print (rfr_random.best_score_)"
   ]
  },
  {
   "cell_type": "markdown",
   "id": "4d9d4b97",
   "metadata": {},
   "source": [
    "Another confirmation that there are actual patterns in the data, and the accuracy is not up to chance"
   ]
  },
  {
   "cell_type": "markdown",
   "id": "7f80a297",
   "metadata": {},
   "source": [
    "# 5.) K Nearest Neighbor"
   ]
  },
  {
   "cell_type": "code",
   "execution_count": 25,
   "id": "0a0e99a2",
   "metadata": {},
   "outputs": [
    {
     "name": "stdout",
     "output_type": "stream",
     "text": [
      "{'leaf_size': 1, 'n_neighbors': 10, 'p': 1, 'weights': 'distance'}\n",
      "0.7149779018254941\n"
     ]
    }
   ],
   "source": [
    "data= preprocess.dummied('explored_data_v1.csv')\n",
    "grid_params_k = {'n_neighbors':[3, 4, 5, 6, 7, 8 ,9, 10],'leaf_size': [20,40,1], 'weights':['uniform','distance'], 'p':[1,2] }\n",
    "\n",
    "gscv_knr = GridSearchCV(KNeighborsRegressor(), param_grid=grid_params_k, cv=5, scoring='r2')\n",
    "\n",
    "knr = gscv_knr.fit(data[0],data[2])\n",
    "\n",
    "print (knr.best_params_)\n",
    "print (knr.best_score_)"
   ]
  },
  {
   "cell_type": "code",
   "execution_count": 26,
   "id": "ced5849b",
   "metadata": {},
   "outputs": [
    {
     "data": {
      "text/plain": [
       "0.7797718768339481"
      ]
     },
     "execution_count": 26,
     "metadata": {},
     "output_type": "execute_result"
    }
   ],
   "source": [
    "knr.score(data[1],data[3])"
   ]
  },
  {
   "cell_type": "code",
   "execution_count": 27,
   "id": "8fe2e97f",
   "metadata": {},
   "outputs": [],
   "source": [
    "y_pred = knr.predict(data[1])"
   ]
  },
  {
   "cell_type": "code",
   "execution_count": 28,
   "id": "872dd65d",
   "metadata": {},
   "outputs": [
    {
     "data": {
      "image/png": "[encoded data removed]",
      "text/plain": [
       "<Figure size 640x480 with 1 Axes>"
      ]
     },
     "metadata": {},
     "output_type": "display_data"
    }
   ],
   "source": [
    "plt.scatter(data[3], y_pred)\n",
    "plt.xlabel('Actual')\n",
    "plt.ylabel('Predicted')\n",
    "plt.title(\"K Neighbors Regression comparison of predicted vs actual values\")\n",
    "plt.show()"
   ]
  },
  {
   "cell_type": "code",
   "execution_count": 29,
   "id": "c2e9f93c",
   "metadata": {},
   "outputs": [
    {
     "name": "stdout",
     "output_type": "stream",
     "text": [
      "0.779771876833948 2.986030647554204\n"
     ]
    }
   ],
   "source": [
    "y_true = data[3]\n",
    "\n",
    "sum_squares_residuals = sum((y_true - y_pred) ** 2)\n",
    "sum_squares = sum((y_true - np.mean(y_true)) ** 2)\n",
    "R2 = 1 - sum_squares_residuals / sum_squares\n",
    "\n",
    "rmse = (mean_squared_error(y_true, y_pred))**(1/2)\n",
    "\n",
    "K_Neighbors_results=[R2, rmse]\n",
    "\n",
    "models_values.append(K_Neighbors_results)\n",
    "\n",
    "print (R2, rmse)"
   ]
  },
  {
   "cell_type": "markdown",
   "id": "de780e5a",
   "metadata": {},
   "source": [
    "# 6.) Gradient Boosting Regression"
   ]
  },
  {
   "cell_type": "code",
   "execution_count": 30,
   "id": "6082861c",
   "metadata": {},
   "outputs": [
    {
     "name": "stdout",
     "output_type": "stream",
     "text": [
      "{'learning_rate': 0.1, 'loss': 'squared_error', 'max_depth': 3, 'n_estimators': 50}\n",
      "0.7459904836203135\n"
     ]
    }
   ],
   "source": [
    "data = preprocess.dummied('explored_data_v1.csv')\n",
    "\n",
    "grid_params_gb = {'learning_rate':[.001,.01,.1],'n_estimators':[50,100,150,250],'max_depth':[3,4,5], 'loss':['squared_error','absolute_error']}\n",
    "\n",
    "gscv_gbr = GridSearchCV(GradientBoostingRegressor(), param_grid=grid_params_gb, cv=5, scoring='r2')\n",
    "\n",
    "gbr = gscv_gbr.fit(data[0],data[2])\n",
    "\n",
    "print (gbr.best_params_)\n",
    "print (gbr.best_score_)"
   ]
  },
  {
   "cell_type": "code",
   "execution_count": 31,
   "id": "dc25d36d",
   "metadata": {},
   "outputs": [
    {
     "data": {
      "text/plain": [
       "0.7516457579952889"
      ]
     },
     "execution_count": 31,
     "metadata": {},
     "output_type": "execute_result"
    }
   ],
   "source": [
    "gbr.score(data[1],data[3])"
   ]
  },
  {
   "cell_type": "code",
   "execution_count": 32,
   "id": "4c1b3a96",
   "metadata": {},
   "outputs": [],
   "source": [
    "y_pred = gbr.predict(data[1])"
   ]
  },
  {
   "cell_type": "code",
   "execution_count": 33,
   "id": "4b981065",
   "metadata": {},
   "outputs": [
    {
     "data": {
      "image/png": "[encoded data removed]",
      "text/plain": [
       "<Figure size 640x480 with 1 Axes>"
      ]
     },
     "metadata": {},
     "output_type": "display_data"
    }
   ],
   "source": [
    "plt.scatter(data[3], y_pred)\n",
    "plt.xlabel('Actual')\n",
    "plt.ylabel('Predicted')\n",
    "plt.title(\"Gradient Boosting Regression comparison of predicted vs actual values\")\n",
    "plt.show()"
   ]
  },
  {
   "cell_type": "code",
   "execution_count": 34,
   "id": "ebaabf11",
   "metadata": {},
   "outputs": [
    {
     "name": "stdout",
     "output_type": "stream",
     "text": [
      "0.7516457579952888 3.472506027159024\n"
     ]
    }
   ],
   "source": [
    "y_true = data[3]\n",
    "\n",
    "sum_squares_residuals = sum((y_true - y_pred) ** 2)\n",
    "sum_squares = sum((y_true - np.mean(y_true)) ** 2)\n",
    "R2 = 1 - sum_squares_residuals / sum_squares\n",
    "\n",
    "rmse = (mean_squared_error(y_true, y_pred))**(1/2)\n",
    "\n",
    "Gradient_Boosting_results=[R2, rmse]\n",
    "\n",
    "models_values.append(Gradient_Boosting_results)\n",
    "\n",
    "print (R2, rmse)"
   ]
  },
  {
   "cell_type": "markdown",
   "id": "4bd21866",
   "metadata": {},
   "source": [
    "# 7.) Linear Support Vector Regression"
   ]
  },
  {
   "cell_type": "code",
   "execution_count": 35,
   "id": "a45bbeb6",
   "metadata": {},
   "outputs": [
    {
     "name": "stdout",
     "output_type": "stream",
     "text": [
      "{'C': 0.1, 'loss': 'squared_epsilon_insensitive', 'max_iter': 1000, 'tol': 0.001}\n",
      "0.7107073600673643\n"
     ]
    }
   ],
   "source": [
    "data = preprocess.dummied_standardized('explored_data_v1.csv')\n",
    "\n",
    "grid_params = {'C':[.001,.01,.1],'tol':[.00001,.001, 1],'loss':['epsilon_insensitive', 'squared_epsilon_insensitive'],'max_iter':[1000,1500,2000,3000,5000]}\n",
    "\n",
    "gscv_svr = GridSearchCV(LinearSVR(), param_grid=grid_params, cv=5, scoring='r2' )\n",
    "\n",
    "svr = gscv_svr.fit(data[0],data[2])\n",
    "\n",
    "print (svr.best_params_)\n",
    "print (svr.best_score_)"
   ]
  },
  {
   "cell_type": "code",
   "execution_count": 36,
   "id": "97626018",
   "metadata": {},
   "outputs": [
    {
     "data": {
      "text/plain": [
       "0.8003616877154075"
      ]
     },
     "execution_count": 36,
     "metadata": {},
     "output_type": "execute_result"
    }
   ],
   "source": [
    "svr.score(data[1],data[3])"
   ]
  },
  {
   "cell_type": "code",
   "execution_count": 37,
   "id": "b8769f52",
   "metadata": {},
   "outputs": [],
   "source": [
    "y_pred = svr.predict(data[1])"
   ]
  },
  {
   "cell_type": "code",
   "execution_count": 38,
   "id": "1065a9bc",
   "metadata": {},
   "outputs": [
    {
     "data": {
      "image/png": "[encoded data removed]",
      "text/plain": [
       "<Figure size 640x480 with 1 Axes>"
      ]
     },
     "metadata": {},
     "output_type": "display_data"
    }
   ],
   "source": [
    "plt.scatter(data[3], y_pred)\n",
    "plt.xlabel('Actual')\n",
    "plt.ylabel('Predicted')\n",
    "plt.title(\"Gradient Boosting Regression comparison of predicted vs actual values\")\n",
    "plt.show()"
   ]
  },
  {
   "cell_type": "code",
   "execution_count": 39,
   "id": "23d767ad",
   "metadata": {},
   "outputs": [
    {
     "name": "stdout",
     "output_type": "stream",
     "text": [
      "0.8003616877154074 3.183578945403586\n"
     ]
    }
   ],
   "source": [
    "y_true = data[3]\n",
    "\n",
    "sum_squares_residuals = sum((y_true - y_pred) ** 2)\n",
    "sum_squares = sum((y_true - np.mean(y_true)) ** 2)\n",
    "R2 = 1 - sum_squares_residuals / sum_squares\n",
    "\n",
    "rmse = (mean_squared_error(y_true, y_pred))**(1/2)\n",
    "\n",
    "SVM_results=[R2, rmse]\n",
    "\n",
    "models_values.append(SVM_results)\n",
    "\n",
    "print (R2, rmse)"
   ]
  },
  {
   "cell_type": "markdown",
   "id": "d82e02e9",
   "metadata": {},
   "source": [
    "# 8.) Deep Neural Network"
   ]
  },
  {
   "cell_type": "code",
   "execution_count": 40,
   "id": "673d173c",
   "metadata": {},
   "outputs": [],
   "source": [
    "data = preprocess.dummied('explored_data_v1.csv')\n",
    "normalizer = tf.keras.layers.Normalization(axis=-1)\n",
    "normalizer.adapt(np.array(data[0]))\n"
   ]
  },
  {
   "cell_type": "code",
   "execution_count": 41,
   "id": "e7c80356",
   "metadata": {},
   "outputs": [
    {
     "data": {
      "text/html": [
       "<pre style=\"white-space:pre;overflow-x:auto;line-height:normal;font-family:Menlo,'DejaVu Sans Mono',consolas,'Courier New',monospace\"><span style=\"font-weight: bold\">Model: \"sequential\"</span>\n",
       "</pre>\n"
      ],
      "text/plain": [
       "\u001b[1mModel: \"sequential\"\u001b[0m\n"
      ]
     },
     "metadata": {},
     "output_type": "display_data"
    },
    {
     "data": {
      "text/html": [
       "<pre style=\"white-space:pre;overflow-x:auto;line-height:normal;font-family:Menlo,'DejaVu Sans Mono',consolas,'Courier New',monospace\">┏━━━━━━━━━━━━━━━━━━━━━━━━━━━━━━━━━┳━━━━━━━━━━━━━━━━━━━━━━━━┳━━━━━━━━━━━━━━━┓\n",
       "┃<span style=\"font-weight: bold\"> Layer (type)                    </span>┃<span style=\"font-weight: bold\"> Output Shape           </span>┃<span style=\"font-weight: bold\">       Param # </span>┃\n",
       "┡━━━━━━━━━━━━━━━━━━━━━━━━━━━━━━━━━╇━━━━━━━━━━━━━━━━━━━━━━━━╇━━━━━━━━━━━━━━━┩\n",
       "│ normalization (<span style=\"color: #0087ff; text-decoration-color: #0087ff\">Normalization</span>)   │ (<span style=\"color: #00af00; text-decoration-color: #00af00\">556</span>, <span style=\"color: #00af00; text-decoration-color: #00af00\">9</span>)               │            <span style=\"color: #00af00; text-decoration-color: #00af00\">19</span> │\n",
       "├─────────────────────────────────┼────────────────────────┼───────────────┤\n",
       "│ dense (<span style=\"color: #0087ff; text-decoration-color: #0087ff\">Dense</span>)                   │ ?                      │   <span style=\"color: #00af00; text-decoration-color: #00af00\">0</span> (unbuilt) │\n",
       "├─────────────────────────────────┼────────────────────────┼───────────────┤\n",
       "│ dense_1 (<span style=\"color: #0087ff; text-decoration-color: #0087ff\">Dense</span>)                 │ ?                      │   <span style=\"color: #00af00; text-decoration-color: #00af00\">0</span> (unbuilt) │\n",
       "├─────────────────────────────────┼────────────────────────┼───────────────┤\n",
       "│ dense_2 (<span style=\"color: #0087ff; text-decoration-color: #0087ff\">Dense</span>)                 │ ?                      │   <span style=\"color: #00af00; text-decoration-color: #00af00\">0</span> (unbuilt) │\n",
       "├─────────────────────────────────┼────────────────────────┼───────────────┤\n",
       "│ dense_3 (<span style=\"color: #0087ff; text-decoration-color: #0087ff\">Dense</span>)                 │ ?                      │   <span style=\"color: #00af00; text-decoration-color: #00af00\">0</span> (unbuilt) │\n",
       "├─────────────────────────────────┼────────────────────────┼───────────────┤\n",
       "│ dense_4 (<span style=\"color: #0087ff; text-decoration-color: #0087ff\">Dense</span>)                 │ ?                      │   <span style=\"color: #00af00; text-decoration-color: #00af00\">0</span> (unbuilt) │\n",
       "└─────────────────────────────────┴────────────────────────┴───────────────┘\n",
       "</pre>\n"
      ],
      "text/plain": [
       "┏━━━━━━━━━━━━━━━━━━━━━━━━━━━━━━━━━┳━━━━━━━━━━━━━━━━━━━━━━━━┳━━━━━━━━━━━━━━━┓\n",
       "┃\u001b[1m \u001b[0m\u001b[1mLayer (type)                   \u001b[0m\u001b[1m \u001b[0m┃\u001b[1m \u001b[0m\u001b[1mOutput Shape          \u001b[0m\u001b[1m \u001b[0m┃\u001b[1m \u001b[0m\u001b[1m      Param #\u001b[0m\u001b[1m \u001b[0m┃\n",
       "┡━━━━━━━━━━━━━━━━━━━━━━━━━━━━━━━━━╇━━━━━━━━━━━━━━━━━━━━━━━━╇━━━━━━━━━━━━━━━┩\n",
       "│ normalization (\u001b[38;5;33mNormalization\u001b[0m)   │ (\u001b[38;5;34m556\u001b[0m, \u001b[38;5;34m9\u001b[0m)               │            \u001b[38;5;34m19\u001b[0m │\n",
       "├─────────────────────────────────┼────────────────────────┼───────────────┤\n",
       "│ dense (\u001b[38;5;33mDense\u001b[0m)                   │ ?                      │   \u001b[38;5;34m0\u001b[0m (unbuilt) │\n",
       "├─────────────────────────────────┼────────────────────────┼───────────────┤\n",
       "│ dense_1 (\u001b[38;5;33mDense\u001b[0m)                 │ ?                      │   \u001b[38;5;34m0\u001b[0m (unbuilt) │\n",
       "├─────────────────────────────────┼────────────────────────┼───────────────┤\n",
       "│ dense_2 (\u001b[38;5;33mDense\u001b[0m)                 │ ?                      │   \u001b[38;5;34m0\u001b[0m (unbuilt) │\n",
       "├─────────────────────────────────┼────────────────────────┼───────────────┤\n",
       "│ dense_3 (\u001b[38;5;33mDense\u001b[0m)                 │ ?                      │   \u001b[38;5;34m0\u001b[0m (unbuilt) │\n",
       "├─────────────────────────────────┼────────────────────────┼───────────────┤\n",
       "│ dense_4 (\u001b[38;5;33mDense\u001b[0m)                 │ ?                      │   \u001b[38;5;34m0\u001b[0m (unbuilt) │\n",
       "└─────────────────────────────────┴────────────────────────┴───────────────┘\n"
      ]
     },
     "metadata": {},
     "output_type": "display_data"
    },
    {
     "data": {
      "text/html": [
       "<pre style=\"white-space:pre;overflow-x:auto;line-height:normal;font-family:Menlo,'DejaVu Sans Mono',consolas,'Courier New',monospace\"><span style=\"font-weight: bold\"> Total params: </span><span style=\"color: #00af00; text-decoration-color: #00af00\">19</span> (80.00 B)\n",
       "</pre>\n"
      ],
      "text/plain": [
       "\u001b[1m Total params: \u001b[0m\u001b[38;5;34m19\u001b[0m (80.00 B)\n"
      ]
     },
     "metadata": {},
     "output_type": "display_data"
    },
    {
     "data": {
      "text/html": [
       "<pre style=\"white-space:pre;overflow-x:auto;line-height:normal;font-family:Menlo,'DejaVu Sans Mono',consolas,'Courier New',monospace\"><span style=\"font-weight: bold\"> Trainable params: </span><span style=\"color: #00af00; text-decoration-color: #00af00\">0</span> (0.00 B)\n",
       "</pre>\n"
      ],
      "text/plain": [
       "\u001b[1m Trainable params: \u001b[0m\u001b[38;5;34m0\u001b[0m (0.00 B)\n"
      ]
     },
     "metadata": {},
     "output_type": "display_data"
    },
    {
     "data": {
      "text/html": [
       "<pre style=\"white-space:pre;overflow-x:auto;line-height:normal;font-family:Menlo,'DejaVu Sans Mono',consolas,'Courier New',monospace\"><span style=\"font-weight: bold\"> Non-trainable params: </span><span style=\"color: #00af00; text-decoration-color: #00af00\">19</span> (80.00 B)\n",
       "</pre>\n"
      ],
      "text/plain": [
       "\u001b[1m Non-trainable params: \u001b[0m\u001b[38;5;34m19\u001b[0m (80.00 B)\n"
      ]
     },
     "metadata": {},
     "output_type": "display_data"
    }
   ],
   "source": [
    "model = tf.keras.Sequential([\n",
    "    normalizer,\n",
    "    tf.keras.layers.Dense(10, activation='relu'),\n",
    "    tf.keras.layers.Dense(30, activation='relu'),\n",
    "    tf.keras.layers.Dense(30, activation='relu'),\n",
    "    tf.keras.layers.Dense(10, activation='relu'),\n",
    "    tf.keras.layers.Dense(units=1)\n",
    "])\n",
    "\n",
    "model.summary()"
   ]
  },
  {
   "cell_type": "code",
   "execution_count": 42,
   "id": "52e40559",
   "metadata": {},
   "outputs": [],
   "source": [
    "model.compile(\n",
    "    optimizer=tf.keras.optimizers.Adam(learning_rate=.01),\n",
    "    loss='mean_absolute_error')"
   ]
  },
  {
   "cell_type": "code",
   "execution_count": 43,
   "id": "b3d648cb",
   "metadata": {},
   "outputs": [],
   "source": [
    "history = model.fit(\n",
    "    data[0],\n",
    "    data[2],\n",
    "    epochs=200,\n",
    "    # Suppress logging.\n",
    "    verbose=0,\n",
    "    # Calculate validation results on 20% of the training data.\n",
    "    validation_split = 0.2)\n"
   ]
  },
  {
   "cell_type": "code",
   "execution_count": 44,
   "id": "ea6e9a6b",
   "metadata": {},
   "outputs": [
    {
     "data": {
      "text/html": [
       "<div>\n",
       "<style scoped>\n",
       "    .dataframe tbody tr th:only-of-type {\n",
       "        vertical-align: middle;\n",
       "    }\n",
       "\n",
       "    .dataframe tbody tr th {\n",
       "        vertical-align: top;\n",
       "    }\n",
       "\n",
       "    .dataframe thead th {\n",
       "        text-align: right;\n",
       "    }\n",
       "</style>\n",
       "<table border=\"1\" class=\"dataframe\">\n",
       "  <thead>\n",
       "    <tr style=\"text-align: right;\">\n",
       "      <th></th>\n",
       "      <th>loss</th>\n",
       "      <th>val_loss</th>\n",
       "      <th>epoch</th>\n",
       "    </tr>\n",
       "  </thead>\n",
       "  <tbody>\n",
       "    <tr>\n",
       "      <th>195</th>\n",
       "      <td>2.472442</td>\n",
       "      <td>2.741116</td>\n",
       "      <td>195</td>\n",
       "    </tr>\n",
       "    <tr>\n",
       "      <th>196</th>\n",
       "      <td>2.507886</td>\n",
       "      <td>2.883732</td>\n",
       "      <td>196</td>\n",
       "    </tr>\n",
       "    <tr>\n",
       "      <th>197</th>\n",
       "      <td>2.644567</td>\n",
       "      <td>2.731130</td>\n",
       "      <td>197</td>\n",
       "    </tr>\n",
       "    <tr>\n",
       "      <th>198</th>\n",
       "      <td>2.560664</td>\n",
       "      <td>2.921179</td>\n",
       "      <td>198</td>\n",
       "    </tr>\n",
       "    <tr>\n",
       "      <th>199</th>\n",
       "      <td>2.535722</td>\n",
       "      <td>3.110453</td>\n",
       "      <td>199</td>\n",
       "    </tr>\n",
       "  </tbody>\n",
       "</table>\n",
       "</div>"
      ],
      "text/plain": [
       "         loss  val_loss  epoch\n",
       "195  2.472442  2.741116    195\n",
       "196  2.507886  2.883732    196\n",
       "197  2.644567  2.731130    197\n",
       "198  2.560664  2.921179    198\n",
       "199  2.535722  3.110453    199"
      ]
     },
     "execution_count": 44,
     "metadata": {},
     "output_type": "execute_result"
    }
   ],
   "source": [
    "hist = pd.DataFrame(history.history)\n",
    "hist['epoch'] = history.epoch\n",
    "hist.tail()"
   ]
  },
  {
   "cell_type": "code",
   "execution_count": 45,
   "id": "9399d0b7",
   "metadata": {},
   "outputs": [],
   "source": [
    "def plot_loss(history):\n",
    "    plt.plot(history.history['loss'], label='loss')\n",
    "    plt.plot(history.history['val_loss'], label='val_loss')\n",
    "    plt.ylim([0, 10])\n",
    "    plt.xlabel('Epochs')\n",
    "    plt.ylabel('Mean Absolute Error')\n",
    "    plt.legend()\n",
    "    plt.grid(True)"
   ]
  },
  {
   "cell_type": "code",
   "execution_count": 46,
   "id": "f1bcf3dc",
   "metadata": {
    "scrolled": true
   },
   "outputs": [
    {
     "data": {
      "image/png": "[encoded data removed]",
      "text/plain": [
       "<Figure size 640x480 with 1 Axes>"
      ]
     },
     "metadata": {},
     "output_type": "display_data"
    }
   ],
   "source": [
    "show = plot_loss(history)"
   ]
  },
  {
   "cell_type": "code",
   "execution_count": 47,
   "id": "fb54d4f4",
   "metadata": {},
   "outputs": [],
   "source": [
    "test_results = {}\n",
    "\n",
    "test_results['model'] = model.evaluate(\n",
    "    data[1],\n",
    "    data[3], verbose=0)"
   ]
  },
  {
   "cell_type": "code",
   "execution_count": 48,
   "id": "4a644c50",
   "metadata": {},
   "outputs": [
    {
     "data": {
      "text/plain": [
       "{'model': 2.8543646335601807}"
      ]
     },
     "execution_count": 48,
     "metadata": {},
     "output_type": "execute_result"
    }
   ],
   "source": [
    "test_results"
   ]
  },
  {
   "cell_type": "code",
   "execution_count": 49,
   "id": "afc4dbb9",
   "metadata": {},
   "outputs": [
    {
     "name": "stdout",
     "output_type": "stream",
     "text": [
      "\u001b[1m5/5\u001b[0m \u001b[32m━━━━━━━━━━━━━━━━━━━━\u001b[0m\u001b[37m\u001b[0m \u001b[1m0s\u001b[0m 6ms/step \n"
     ]
    }
   ],
   "source": [
    "y_pred = model.predict(data[1])"
   ]
  },
  {
   "cell_type": "code",
   "execution_count": 50,
   "id": "fd611444",
   "metadata": {
    "scrolled": true
   },
   "outputs": [
    {
     "data": {
      "image/png": "[encoded data removed]",
      "text/plain": [
       "<Figure size 640x480 with 1 Axes>"
      ]
     },
     "metadata": {},
     "output_type": "display_data"
    }
   ],
   "source": [
    "plt.scatter(data[3], y_pred)\n",
    "plt.xlabel('Actual')\n",
    "plt.ylabel('Predicted')\n",
    "plt.title(\"DNN Regression comparison of predicted vs actual values\")\n",
    "plt.show()"
   ]
  },
  {
   "cell_type": "code",
   "execution_count": 51,
   "id": "20bdb8a0",
   "metadata": {},
   "outputs": [],
   "source": [
    "y_true = data[3]"
   ]
  },
  {
   "cell_type": "code",
   "execution_count": 52,
   "id": "35c463bb",
   "metadata": {},
   "outputs": [
    {
     "name": "stdout",
     "output_type": "stream",
     "text": [
      "0.7437463749779702 3.425688370164526\n"
     ]
    }
   ],
   "source": [
    "sum_squares_residuals = sum((np.array(y_true).reshape(-1,1) - np.array(y_pred).reshape(-1,1)) ** 2)\n",
    "sum_squares = sum((y_true - np.mean(y_true)) ** 2)\n",
    "R2 = 1 - sum_squares_residuals / sum_squares\n",
    "\n",
    "r2_var = 0\n",
    "for x in R2:\n",
    "    r2_var = float(x)\n",
    "\n",
    "rmse = (mean_squared_error(y_true, y_pred))**(1/2)\n",
    "\n",
    "DNN_results=[r2_var, rmse]\n",
    "\n",
    "models_values.append(DNN_results)\n",
    "\n",
    "print (r2_var, rmse)"
   ]
  },
  {
   "cell_type": "markdown",
   "id": "2743ac2b",
   "metadata": {},
   "source": [
    "## Comparing Models"
   ]
  },
  {
   "cell_type": "code",
   "execution_count": 53,
   "id": "8b440fa5",
   "metadata": {},
   "outputs": [
    {
     "name": "stdout",
     "output_type": "stream",
     "text": [
      "['Ordinary_Least_Squares', 'Ridge', 'Lasso', 'Random_Forest', 'K_Neighbors', 'Gradient_Boosting', 'Support_Vector_Machine', 'Deep_Neural_Network']\n"
     ]
    }
   ],
   "source": [
    "print (models_keys)"
   ]
  },
  {
   "cell_type": "code",
   "execution_count": 54,
   "id": "1797e622",
   "metadata": {},
   "outputs": [
    {
     "name": "stdout",
     "output_type": "stream",
     "text": [
      "[[0.07267146928491486, 6.034206296231276], [0.7618651097541416, 3.4324338433345303], [0.7292131359039775, 3.4084677660601663], [0.7048639543370024, 3.382501886699642], [0.779771876833948, 2.986030647554204], [0.7516457579952888, 3.472506027159024], [0.8003616877154074, 3.183578945403586], [0.7437463749779702, 3.425688370164526]]\n"
     ]
    }
   ],
   "source": [
    "print(models_values)"
   ]
  },
  {
   "cell_type": "code",
   "execution_count": 55,
   "id": "fd3bd1d6",
   "metadata": {},
   "outputs": [],
   "source": [
    "for x in range(len(models_keys)):\n",
    "    \n",
    "    best_model_results[models_keys[x]] = models_values[x]"
   ]
  },
  {
   "cell_type": "code",
   "execution_count": 56,
   "id": "b4d83822",
   "metadata": {},
   "outputs": [
    {
     "name": "stdout",
     "output_type": "stream",
     "text": [
      "{'Ordinary_Least_Squares': [0.07267146928491486, 6.034206296231276], 'Ridge': [0.7618651097541416, 3.4324338433345303], 'Lasso': [0.7292131359039775, 3.4084677660601663], 'Random_Forest': [0.7048639543370024, 3.382501886699642], 'K_Neighbors': [0.779771876833948, 2.986030647554204], 'Gradient_Boosting': [0.7516457579952888, 3.472506027159024], 'Support_Vector_Machine': [0.8003616877154074, 3.183578945403586], 'Deep_Neural_Network': [0.7437463749779702, 3.425688370164526]}\n"
     ]
    }
   ],
   "source": [
    "print(best_model_results)"
   ]
  },
  {
   "cell_type": "code",
   "execution_count": 57,
   "id": "8fb9035e",
   "metadata": {},
   "outputs": [],
   "source": [
    "results_df = pd.DataFrame(data=best_model_results)"
   ]
  },
  {
   "cell_type": "code",
   "execution_count": 58,
   "id": "e8d21503",
   "metadata": {},
   "outputs": [],
   "source": [
    "results_df = results_df.T"
   ]
  },
  {
   "cell_type": "code",
   "execution_count": 59,
   "id": "fea2205a",
   "metadata": {},
   "outputs": [],
   "source": [
    "results_df = results_df.rename(columns={0:'R_Squared',1:'Root_Mean_Squared_Error'})"
   ]
  },
  {
   "cell_type": "code",
   "execution_count": 60,
   "id": "ac12a6eb",
   "metadata": {},
   "outputs": [
    {
     "data": {
      "text/html": [
       "<div>\n",
       "<style scoped>\n",
       "    .dataframe tbody tr th:only-of-type {\n",
       "        vertical-align: middle;\n",
       "    }\n",
       "\n",
       "    .dataframe tbody tr th {\n",
       "        vertical-align: top;\n",
       "    }\n",
       "\n",
       "    .dataframe thead th {\n",
       "        text-align: right;\n",
       "    }\n",
       "</style>\n",
       "<table border=\"1\" class=\"dataframe\">\n",
       "  <thead>\n",
       "    <tr style=\"text-align: right;\">\n",
       "      <th></th>\n",
       "      <th>R_Squared</th>\n",
       "      <th>Root_Mean_Squared_Error</th>\n",
       "    </tr>\n",
       "  </thead>\n",
       "  <tbody>\n",
       "    <tr>\n",
       "      <th>Ordinary_Least_Squares</th>\n",
       "      <td>0.072671</td>\n",
       "      <td>6.034206</td>\n",
       "    </tr>\n",
       "    <tr>\n",
       "      <th>Ridge</th>\n",
       "      <td>0.761865</td>\n",
       "      <td>3.432434</td>\n",
       "    </tr>\n",
       "    <tr>\n",
       "      <th>Lasso</th>\n",
       "      <td>0.729213</td>\n",
       "      <td>3.408468</td>\n",
       "    </tr>\n",
       "    <tr>\n",
       "      <th>Random_Forest</th>\n",
       "      <td>0.704864</td>\n",
       "      <td>3.382502</td>\n",
       "    </tr>\n",
       "    <tr>\n",
       "      <th>K_Neighbors</th>\n",
       "      <td>0.779772</td>\n",
       "      <td>2.986031</td>\n",
       "    </tr>\n",
       "    <tr>\n",
       "      <th>Gradient_Boosting</th>\n",
       "      <td>0.751646</td>\n",
       "      <td>3.472506</td>\n",
       "    </tr>\n",
       "    <tr>\n",
       "      <th>Support_Vector_Machine</th>\n",
       "      <td>0.800362</td>\n",
       "      <td>3.183579</td>\n",
       "    </tr>\n",
       "    <tr>\n",
       "      <th>Deep_Neural_Network</th>\n",
       "      <td>0.743746</td>\n",
       "      <td>3.425688</td>\n",
       "    </tr>\n",
       "  </tbody>\n",
       "</table>\n",
       "</div>"
      ],
      "text/plain": [
       "                        R_Squared  Root_Mean_Squared_Error\n",
       "Ordinary_Least_Squares   0.072671                 6.034206\n",
       "Ridge                    0.761865                 3.432434\n",
       "Lasso                    0.729213                 3.408468\n",
       "Random_Forest            0.704864                 3.382502\n",
       "K_Neighbors              0.779772                 2.986031\n",
       "Gradient_Boosting        0.751646                 3.472506\n",
       "Support_Vector_Machine   0.800362                 3.183579\n",
       "Deep_Neural_Network      0.743746                 3.425688"
      ]
     },
     "execution_count": 60,
     "metadata": {},
     "output_type": "execute_result"
    }
   ],
   "source": [
    "results_df.head(8)"
   ]
  },
  {
   "cell_type": "code",
   "execution_count": 61,
   "id": "d735ca20",
   "metadata": {},
   "outputs": [],
   "source": [
    "results_df.to_csv('test_results.csv')"
   ]
  },
  {
   "cell_type": "markdown",
   "id": "b17a8a72",
   "metadata": {},
   "source": [
    "For the sake of cleanliness: use Ridge, Lasso, and Random Forest in the actual prediction generation and compare results"
   ]
  },
  {
   "cell_type": "markdown",
   "id": "3df660bd",
   "metadata": {},
   "source": [
    "# Model Execution:\n",
    "Run through a list of inputs to see how different demographics would be impacted based on their demographic and the unemployment rate change, and employment amount change"
   ]
  },
  {
   "cell_type": "code",
   "execution_count": 62,
   "id": "1d32d1a5",
   "metadata": {},
   "outputs": [],
   "source": [
    "df=pd.read_csv('explored_data_v1.csv')"
   ]
  },
  {
   "cell_type": "code",
   "execution_count": 63,
   "id": "61514d2c",
   "metadata": {},
   "outputs": [
    {
     "data": {
      "text/html": [
       "<div>\n",
       "<style scoped>\n",
       "    .dataframe tbody tr th:only-of-type {\n",
       "        vertical-align: middle;\n",
       "    }\n",
       "\n",
       "    .dataframe tbody tr th {\n",
       "        vertical-align: top;\n",
       "    }\n",
       "\n",
       "    .dataframe thead th {\n",
       "        text-align: right;\n",
       "    }\n",
       "</style>\n",
       "<table border=\"1\" class=\"dataframe\">\n",
       "  <thead>\n",
       "    <tr style=\"text-align: right;\">\n",
       "      <th></th>\n",
       "      <th>Unnamed: 0</th>\n",
       "      <th>Indicator</th>\n",
       "      <th>Subgroup</th>\n",
       "      <th>Date</th>\n",
       "      <th>Value</th>\n",
       "      <th>Year</th>\n",
       "      <th>weighted_unemployment_rate_change</th>\n",
       "      <th>total_unemployed_change</th>\n",
       "    </tr>\n",
       "  </thead>\n",
       "  <tbody>\n",
       "    <tr>\n",
       "      <th>0</th>\n",
       "      <td>0</td>\n",
       "      <td>Symptoms of Depressive Disorder</td>\n",
       "      <td>Hispanic or Latino</td>\n",
       "      <td>2020-04-23</td>\n",
       "      <td>29.4</td>\n",
       "      <td>2020</td>\n",
       "      <td>6.168662</td>\n",
       "      <td>1771000.0</td>\n",
       "    </tr>\n",
       "    <tr>\n",
       "      <th>1</th>\n",
       "      <td>1</td>\n",
       "      <td>Symptoms of Anxiety Disorder</td>\n",
       "      <td>Hispanic or Latino</td>\n",
       "      <td>2020-04-23</td>\n",
       "      <td>36.3</td>\n",
       "      <td>2020</td>\n",
       "      <td>6.168662</td>\n",
       "      <td>1771000.0</td>\n",
       "    </tr>\n",
       "    <tr>\n",
       "      <th>2</th>\n",
       "      <td>2</td>\n",
       "      <td>Symptoms of Anxiety Disorder or Depressive Dis...</td>\n",
       "      <td>Hispanic or Latino</td>\n",
       "      <td>2020-04-23</td>\n",
       "      <td>42.7</td>\n",
       "      <td>2020</td>\n",
       "      <td>6.168662</td>\n",
       "      <td>1771000.0</td>\n",
       "    </tr>\n",
       "    <tr>\n",
       "      <th>3</th>\n",
       "      <td>3</td>\n",
       "      <td>Symptoms of Depressive Disorder</td>\n",
       "      <td>Hispanic or Latino</td>\n",
       "      <td>2020-05-07</td>\n",
       "      <td>27.9</td>\n",
       "      <td>2020</td>\n",
       "      <td>6.168662</td>\n",
       "      <td>1771000.0</td>\n",
       "    </tr>\n",
       "    <tr>\n",
       "      <th>4</th>\n",
       "      <td>4</td>\n",
       "      <td>Symptoms of Anxiety Disorder</td>\n",
       "      <td>Hispanic or Latino</td>\n",
       "      <td>2020-05-07</td>\n",
       "      <td>36.2</td>\n",
       "      <td>2020</td>\n",
       "      <td>6.168662</td>\n",
       "      <td>1771000.0</td>\n",
       "    </tr>\n",
       "  </tbody>\n",
       "</table>\n",
       "</div>"
      ],
      "text/plain": [
       "   Unnamed: 0                                          Indicator  \\\n",
       "0           0                    Symptoms of Depressive Disorder   \n",
       "1           1                       Symptoms of Anxiety Disorder   \n",
       "2           2  Symptoms of Anxiety Disorder or Depressive Dis...   \n",
       "3           3                    Symptoms of Depressive Disorder   \n",
       "4           4                       Symptoms of Anxiety Disorder   \n",
       "\n",
       "             Subgroup        Date  Value  Year  \\\n",
       "0  Hispanic or Latino  2020-04-23   29.4  2020   \n",
       "1  Hispanic or Latino  2020-04-23   36.3  2020   \n",
       "2  Hispanic or Latino  2020-04-23   42.7  2020   \n",
       "3  Hispanic or Latino  2020-05-07   27.9  2020   \n",
       "4  Hispanic or Latino  2020-05-07   36.2  2020   \n",
       "\n",
       "   weighted_unemployment_rate_change  total_unemployed_change  \n",
       "0                           6.168662                1771000.0  \n",
       "1                           6.168662                1771000.0  \n",
       "2                           6.168662                1771000.0  \n",
       "3                           6.168662                1771000.0  \n",
       "4                           6.168662                1771000.0  "
      ]
     },
     "execution_count": 63,
     "metadata": {},
     "output_type": "execute_result"
    }
   ],
   "source": [
    "df.head()"
   ]
  },
  {
   "cell_type": "code",
   "execution_count": 64,
   "id": "fad68bbd",
   "metadata": {},
   "outputs": [],
   "source": [
    "races= list(df['Subgroup'].unique())"
   ]
  },
  {
   "cell_type": "code",
   "execution_count": 65,
   "id": "8846cfc5",
   "metadata": {},
   "outputs": [],
   "source": [
    "indicators = list(df['Indicator'].unique())"
   ]
  },
  {
   "cell_type": "code",
   "execution_count": 66,
   "id": "f11fac24",
   "metadata": {},
   "outputs": [],
   "source": [
    "employment_rate_changes = list(range(-10, 12, 2))\n",
    "employment_change = list(range(-2000000, 2400000, 400000))"
   ]
  },
  {
   "cell_type": "code",
   "execution_count": 75,
   "id": "772364b3",
   "metadata": {},
   "outputs": [],
   "source": [
    "rng = np.random.default_rng()\n",
    "        \n",
    "rand_race = list(rng.integers(low=0, high=4, size=9))\n",
    "rand_indic = list(rng.integers(low=0, high=3, size=9))\n",
    "rand_econ = list(rng.integers(low=0, high=11, size=9))"
   ]
  },
  {
   "cell_type": "code",
   "execution_count": 76,
   "id": "0ee139b7",
   "metadata": {},
   "outputs": [],
   "source": [
    "model_inputs = [[rand_race[x],rand_indic[x],rand_econ[x]] for x in range(0,9)]"
   ]
  },
  {
   "cell_type": "code",
   "execution_count": 77,
   "id": "1e0fdfde",
   "metadata": {},
   "outputs": [
    {
     "name": "stdout",
     "output_type": "stream",
     "text": [
      "[[2, 1, 4], [2, 1, 8], [3, 2, 10], [0, 2, 7], [1, 0, 4], [1, 0, 9], [0, 0, 0], [3, 1, 4], [1, 1, 8]]\n"
     ]
    }
   ],
   "source": [
    "print (model_inputs)"
   ]
  },
  {
   "cell_type": "code",
   "execution_count": 78,
   "id": "ebe6c507",
   "metadata": {},
   "outputs": [
    {
     "name": "stdout",
     "output_type": "stream",
     "text": [
      "4\n"
     ]
    }
   ],
   "source": [
    "print (model_inputs[0][2])"
   ]
  },
  {
   "cell_type": "code",
   "execution_count": 79,
   "id": "dbab9bad",
   "metadata": {},
   "outputs": [],
   "source": [
    "def mental_health_toll(inputs, df_path, verbose):\n",
    "    \n",
    "    verbose = verbose\n",
    "    #instantiate results dictionary\n",
    "    \n",
    "    tab_results = pd.DataFrame()\n",
    "    \n",
    "    round_results = []\n",
    "    for x in inputs:\n",
    "        \n",
    "        #create the ready data to retrain the models within the function\n",
    "        def dummied_standardized(df_path):\n",
    "\n",
    "            df = pd.read_csv(df_path)\n",
    "\n",
    "            df = df.drop(columns='Unnamed: 0')\n",
    "\n",
    "            df = df.drop(columns=['Date','Year'])\n",
    "\n",
    "            dum_df = pd.get_dummies(df[['Indicator','Subgroup']])        \n",
    "\n",
    "            dummed_df = pd.concat([df, dum_df],axis=1)\n",
    "\n",
    "            dummed_df = dummed_df.drop(columns=['Indicator','Subgroup'])\n",
    "\n",
    "            features = list(dummed_df.columns[dummed_df.columns != 'Value'])\n",
    "\n",
    "            X = dummed_df[features]\n",
    "\n",
    "            y = dummed_df['Value']\n",
    "\n",
    "            s_scaler = preprocessing.StandardScaler().fit(X)\n",
    "\n",
    "            X=s_scaler.transform(X)\n",
    "\n",
    "            return X , y\n",
    "\n",
    "\n",
    "\n",
    "        def dummied(df_path):\n",
    "\n",
    "            df = pd.read_csv(df_path)\n",
    "\n",
    "            df = df.drop(columns='Unnamed: 0')\n",
    "\n",
    "            df = df.drop(columns=['Date','Year'])\n",
    "\n",
    "            dum_df = pd.get_dummies(df[['Indicator','Subgroup']])        \n",
    "\n",
    "            dummed_df = pd.concat([df, dum_df],axis=1)\n",
    "\n",
    "            dummed_df = dummed_df.drop(columns=['Indicator','Subgroup'])\n",
    "\n",
    "            features = list(dummed_df.columns[dummed_df.columns != 'Value'])\n",
    "\n",
    "            X = dummed_df[features]\n",
    "\n",
    "            y = dummed_df['Value']\n",
    "\n",
    "            return X, y\n",
    "\n",
    "\n",
    "        round_results = []\n",
    "\n",
    "        #transform the inputs into version of X\n",
    "\n",
    "        def input_conversion(x, df_path):\n",
    "            \n",
    "            #reaccess x values in whole set to get the fit correct\n",
    "\n",
    "            df_again = pd.read_csv(df_path)\n",
    "\n",
    "            df_again = df_again.drop(columns='Unnamed: 0')\n",
    "\n",
    "            df_again = df_again.drop(columns=['Date','Year'])\n",
    "\n",
    "            ddf = pd.get_dummies(df_again[['Indicator','Subgroup']])        \n",
    "\n",
    "            dddf = pd.concat([df_again, ddf],axis=1)\n",
    "\n",
    "            dddf = dddf.drop(columns=['Indicator','Subgroup'])\n",
    "\n",
    "            features = list(dddf.columns[dddf.columns != 'Value'])\n",
    "            \n",
    "            final_features = list(dddf.columns)\n",
    "\n",
    "            X = dddf[features]\n",
    "\n",
    "            y = dddf['Value']\n",
    "\n",
    "            #make input generation\n",
    "        \n",
    "            df = pd.read_csv(df_path)\n",
    "\n",
    "            df = df.drop(columns='Unnamed: 0')\n",
    "\n",
    "            df = df.drop(columns=['Date','Year'])\n",
    "            \n",
    "            columns = list(df.columns[df.columns != 'Value'])\n",
    "            \n",
    "        \n",
    "            races= list(df['Subgroup'].unique())\n",
    "            \n",
    "            indicators = list(df['Indicator'].unique())\n",
    "            \n",
    "            employment_rate_changes = list(range(-10, 12, 2))\n",
    "            \n",
    "            employment_change = list(range(-2000000, 2400000, 400000))\n",
    "            \n",
    "            in_df = pd.DataFrame(data={columns[0]:indicators[x[1]], columns[1]:races[x[0]], columns[2]:employment_rate_changes[x[2]], columns[3]:employment_change[x[2]]}, index=[0])\n",
    "            \n",
    "            dum_in = pd.get_dummies(in_df[['Indicator','Subgroup']])        \n",
    "\n",
    "            dum_in = pd.concat([in_df, dum_in],axis=1)\n",
    "\n",
    "            dum_in = dum_in.drop(columns=['Indicator','Subgroup'])\n",
    "            \n",
    "            features_columns = list(dum_in.columns)\n",
    "            \n",
    "            absent_feat = [x for x in features if x not in features_columns]\n",
    "            \n",
    "            merge_falses = {}\n",
    "            for x in absent_feat:\n",
    "                merge_falses[x] = False\n",
    "                \n",
    "            falses = pd.DataFrame(data=merge_falses, index=[0])\n",
    "            \n",
    "            dum_in = pd.concat([dum_in, falses], axis=1)\n",
    "            \n",
    "            X_input_dummed = dum_in[features]\n",
    "    \n",
    "            s_scaler = preprocessing.StandardScaler().fit(X)\n",
    "\n",
    "            X_input_scaled = s_scaler.transform(X_input_dummed)\n",
    "            \n",
    "            return X_input_dummed, X_input_scaled\n",
    "        \n",
    "\n",
    "            \n",
    "        # give code for the model fitting with all data\n",
    "\n",
    "        #1.) Ridge\n",
    "        r_data = dummied_standardized(df_path)\n",
    "        r_model = RidgeCV(alphas=[1e-3, 1e-2, 1e-1, 1], cv=6, scoring='r2').fit(r_data[0], r_data[1])\n",
    "        r_y_pred =r_model.predict(r_data[0])\n",
    "        r_y_true = r_data[1]\n",
    "        r_rmse = (mean_squared_error(r_y_true, r_y_pred))**(1/2)\n",
    "        \n",
    "        #print (r_data[0], (input_conversion(x, df_path)[1]))\n",
    "        \n",
    "        ridge_prediction = r_model.predict(input_conversion(x, df_path)[1])\n",
    "        \n",
    "        ridge_tabular = [ridge_prediction, r_rmse]\n",
    "        \n",
    "        ridge_results = f'Ridge predicts a mental health score of {ridge_prediction} with a root mean squared error of {r_rmse}'\n",
    "        \n",
    "        round_results.append(ridge_results)\n",
    "        \n",
    "        #2.) Lasso\n",
    "        \n",
    "        l_data = dummied_standardized(df_path)\n",
    "        \n",
    "        l_model = LassoCV(alphas=[.001, .01, .1, 1,10],max_iter = 1500, cv=5).fit(l_data[0], l_data[1])\n",
    "        l_y_pred =l_model.predict(l_data[0])\n",
    "        \n",
    "        l_y_true = l_data[1]\n",
    "\n",
    "        l_rmse = (mean_squared_error(l_y_true, l_y_pred))**(1/2)\n",
    "        \n",
    "        lasso_prediction = l_model.predict(input_conversion(x, df_path)[1])\n",
    "        \n",
    "        lasso_tabular = [lasso_prediction, l_rmse]\n",
    "        \n",
    "        lasso_results = f'Lasso predicts a mental health score of {lasso_prediction} with a root mean squared error of {l_rmse}'\n",
    "        \n",
    "        round_results.append(lasso_results)\n",
    "        \n",
    "        #3.) Random Forest \n",
    "    \n",
    "        rf_data = dummied(df_path)\n",
    "\n",
    "        grid_params = {'n_estimators':[50, 75, 100, 125, 150, 200], 'criterion':['friedman_mse','squared_error'] }\n",
    "\n",
    "        gscv_rf = GridSearchCV(RandomForestRegressor(), param_grid=grid_params, cv=5, scoring='r2')\n",
    "\n",
    "        rf_model = gscv_rf.fit(rf_data[0],rf_data[1])\n",
    "        \n",
    "        rf_y_pred =rf_model.predict(rf_data[0])\n",
    "        \n",
    "        rf_y_true = rf_data[1]\n",
    "\n",
    "        rf_rmse = (mean_squared_error(rf_y_true, rf_y_pred))**(1/2)\n",
    "        \n",
    "        rf_prediction = rf_model.predict(input_conversion(x, df_path)[0])\n",
    "        \n",
    "        rf_tabular = [rf_prediction, rf_rmse]\n",
    "        \n",
    "        rf_results = f'Random Forest predicts a mental health score of {rf_prediction} with a root mean squared error of {rf_rmse}'\n",
    "        \n",
    "        round_results.append(rf_results)\n",
    "        \n",
    "        if verbose==True:\n",
    "            print (f'predicting the mental health of this group: {races[x[0]]}, in an economic situation with the following unemployment rate change and unemployment change: {employment_rate_changes[x[2]], employment_change[x[2]]}')\n",
    "            print (ridge_results)\n",
    "            print (lasso_results)\n",
    "            print (rf_results)\n",
    "        \n",
    "        column_label = f'{races[x[0]],employment_rate_changes[x[2]], employment_change[x[2]]}'\n",
    "        tabs = [lasso_tabular, ridge_tabular, rf_tabular]\n",
    "        data = {'input':column_label,'ridge_pred':tabs[1][0], 'ridge_rmse':tabs[1][1], 'lasso_pred':tabs[0][0], 'lasso_rmse':tabs[0][1], 'random_forest_pred': tabs[2][0],'random_forest_rmse': tabs[2][1]}\n",
    "               \n",
    "        tab_results = pd.concat([tab_results, pd.DataFrame(data)], axis=0)\n",
    "        \n",
    "        \n",
    "        \n",
    "    \n",
    "    return tab_results\n",
    "    "
   ]
  },
  {
   "cell_type": "code",
   "execution_count": 80,
   "id": "6a9c6dbb",
   "metadata": {},
   "outputs": [
    {
     "name": "stdout",
     "output_type": "stream",
     "text": [
      "predicting the mental health of this group: Non-Hispanic Black, single race, in an economic situation with the following unemployment rate change and unemployment change: (-2, -400000)\n",
      "Ridge predicts a mental health score of [30.51610332] with a root mean squared error of 3.3508111618941094\n",
      "Lasso predicts a mental health score of [30.50641028] with a root mean squared error of 3.350900702836426\n",
      "Random Forest predicts a mental health score of [28.76522998] with a root mean squared error of 3.150573603518668\n",
      "predicting the mental health of this group: Non-Hispanic Black, single race, in an economic situation with the following unemployment rate change and unemployment change: (6, 1200000)\n",
      "Ridge predicts a mental health score of [34.77933684] with a root mean squared error of 3.3508111618941094\n",
      "Lasso predicts a mental health score of [34.74467569] with a root mean squared error of 3.350900702836426\n",
      "Random Forest predicts a mental health score of [34.78630896] with a root mean squared error of 3.1512768877335917\n",
      "predicting the mental health of this group: Non-Hispanic Asian, single race, in an economic situation with the following unemployment rate change and unemployment change: (10, 2000000)\n",
      "Ridge predicts a mental health score of [33.15317173] with a root mean squared error of 3.3508111618941094\n",
      "Lasso predicts a mental health score of [33.12671884] with a root mean squared error of 3.350900702836426\n",
      "Random Forest predicts a mental health score of [32.56694902] with a root mean squared error of 3.151360568488402\n",
      "predicting the mental health of this group: Hispanic or Latino, in an economic situation with the following unemployment rate change and unemployment change: (4, 800000)\n",
      "Ridge predicts a mental health score of [40.25674638] with a root mean squared error of 3.3508111618941094\n",
      "Lasso predicts a mental health score of [40.21385395] with a root mean squared error of 3.350900702836426\n",
      "Random Forest predicts a mental health score of [34.60097288] with a root mean squared error of 3.151613101563316\n",
      "predicting the mental health of this group: Non-Hispanic White, single race, in an economic situation with the following unemployment rate change and unemployment change: (-2, -400000)\n",
      "Ridge predicts a mental health score of [23.02168245] with a root mean squared error of 3.3508111618941094\n",
      "Lasso predicts a mental health score of [23.05878721] with a root mean squared error of 3.350900702836426\n",
      "Random Forest predicts a mental health score of [24.09463847] with a root mean squared error of 3.151390374413767\n",
      "predicting the mental health of this group: Non-Hispanic White, single race, in an economic situation with the following unemployment rate change and unemployment change: (8, 1600000)\n",
      "Ridge predicts a mental health score of [28.35072434] with a root mean squared error of 3.3508111618941094\n",
      "Lasso predicts a mental health score of [28.35661897] with a root mean squared error of 3.350900702836426\n",
      "Random Forest predicts a mental health score of [29.23005997] with a root mean squared error of 3.1510463644502766\n",
      "predicting the mental health of this group: Hispanic or Latino, in an economic situation with the following unemployment rate change and unemployment change: (-10, -2000000)\n",
      "Ridge predicts a mental health score of [24.07282023] with a root mean squared error of 3.3508111618941094\n",
      "Lasso predicts a mental health score of [24.10187591] with a root mean squared error of 3.350900702836426\n",
      "Random Forest predicts a mental health score of [25.91528767] with a root mean squared error of 3.1517003805522035\n",
      "predicting the mental health of this group: Non-Hispanic Asian, single race, in an economic situation with the following unemployment rate change and unemployment change: (-2, -400000)\n",
      "Ridge predicts a mental health score of [22.34065328] with a root mean squared error of 3.3508111618941094\n",
      "Lasso predicts a mental health score of [22.36574647] with a root mean squared error of 3.350900702836426\n",
      "Random Forest predicts a mental health score of [20.47354279] with a root mean squared error of 3.1506599208539225\n",
      "predicting the mental health of this group: Non-Hispanic White, single race, in an economic situation with the following unemployment rate change and unemployment change: (6, 1200000)\n",
      "Ridge predicts a mental health score of [31.59051529] with a root mean squared error of 3.3508111618941094\n",
      "Lasso predicts a mental health score of [31.58849193] with a root mean squared error of 3.350900702836426\n",
      "Random Forest predicts a mental health score of [36.21265192] with a root mean squared error of 3.1510454130465093\n"
     ]
    }
   ],
   "source": [
    "final = mental_health_toll(model_inputs, 'explored_data_v1.csv', True)"
   ]
  },
  {
   "cell_type": "code",
   "execution_count": 81,
   "id": "ec66f812",
   "metadata": {},
   "outputs": [],
   "source": [
    "final = final.set_index('input')"
   ]
  },
  {
   "cell_type": "code",
   "execution_count": 84,
   "id": "1e935c74",
   "metadata": {},
   "outputs": [
    {
     "data": {
      "text/html": [
       "<div>\n",
       "<style scoped>\n",
       "    .dataframe tbody tr th:only-of-type {\n",
       "        vertical-align: middle;\n",
       "    }\n",
       "\n",
       "    .dataframe tbody tr th {\n",
       "        vertical-align: top;\n",
       "    }\n",
       "\n",
       "    .dataframe thead th {\n",
       "        text-align: right;\n",
       "    }\n",
       "</style>\n",
       "<table border=\"1\" class=\"dataframe\">\n",
       "  <thead>\n",
       "    <tr style=\"text-align: right;\">\n",
       "      <th></th>\n",
       "      <th>ridge_pred</th>\n",
       "      <th>ridge_rmse</th>\n",
       "      <th>lasso_pred</th>\n",
       "      <th>lasso_rmse</th>\n",
       "      <th>random_forest_pred</th>\n",
       "      <th>random_forest_rmse</th>\n",
       "    </tr>\n",
       "    <tr>\n",
       "      <th>input</th>\n",
       "      <th></th>\n",
       "      <th></th>\n",
       "      <th></th>\n",
       "      <th></th>\n",
       "      <th></th>\n",
       "      <th></th>\n",
       "    </tr>\n",
       "  </thead>\n",
       "  <tbody>\n",
       "    <tr>\n",
       "      <th>('Non-Hispanic Black, single race', -2, -400000)</th>\n",
       "      <td>30.516103</td>\n",
       "      <td>3.350811</td>\n",
       "      <td>30.506410</td>\n",
       "      <td>3.350901</td>\n",
       "      <td>28.765230</td>\n",
       "      <td>3.150574</td>\n",
       "    </tr>\n",
       "    <tr>\n",
       "      <th>('Non-Hispanic Black, single race', 6, 1200000)</th>\n",
       "      <td>34.779337</td>\n",
       "      <td>3.350811</td>\n",
       "      <td>34.744676</td>\n",
       "      <td>3.350901</td>\n",
       "      <td>34.786309</td>\n",
       "      <td>3.151277</td>\n",
       "    </tr>\n",
       "    <tr>\n",
       "      <th>('Non-Hispanic Asian, single race', 10, 2000000)</th>\n",
       "      <td>33.153172</td>\n",
       "      <td>3.350811</td>\n",
       "      <td>33.126719</td>\n",
       "      <td>3.350901</td>\n",
       "      <td>32.566949</td>\n",
       "      <td>3.151361</td>\n",
       "    </tr>\n",
       "    <tr>\n",
       "      <th>('Hispanic or Latino', 4, 800000)</th>\n",
       "      <td>40.256746</td>\n",
       "      <td>3.350811</td>\n",
       "      <td>40.213854</td>\n",
       "      <td>3.350901</td>\n",
       "      <td>34.600973</td>\n",
       "      <td>3.151613</td>\n",
       "    </tr>\n",
       "    <tr>\n",
       "      <th>('Non-Hispanic White, single race', -2, -400000)</th>\n",
       "      <td>23.021682</td>\n",
       "      <td>3.350811</td>\n",
       "      <td>23.058787</td>\n",
       "      <td>3.350901</td>\n",
       "      <td>24.094638</td>\n",
       "      <td>3.151390</td>\n",
       "    </tr>\n",
       "    <tr>\n",
       "      <th>('Non-Hispanic White, single race', 8, 1600000)</th>\n",
       "      <td>28.350724</td>\n",
       "      <td>3.350811</td>\n",
       "      <td>28.356619</td>\n",
       "      <td>3.350901</td>\n",
       "      <td>29.230060</td>\n",
       "      <td>3.151046</td>\n",
       "    </tr>\n",
       "    <tr>\n",
       "      <th>('Hispanic or Latino', -10, -2000000)</th>\n",
       "      <td>24.072820</td>\n",
       "      <td>3.350811</td>\n",
       "      <td>24.101876</td>\n",
       "      <td>3.350901</td>\n",
       "      <td>25.915288</td>\n",
       "      <td>3.151700</td>\n",
       "    </tr>\n",
       "    <tr>\n",
       "      <th>('Non-Hispanic Asian, single race', -2, -400000)</th>\n",
       "      <td>22.340653</td>\n",
       "      <td>3.350811</td>\n",
       "      <td>22.365746</td>\n",
       "      <td>3.350901</td>\n",
       "      <td>20.473543</td>\n",
       "      <td>3.150660</td>\n",
       "    </tr>\n",
       "    <tr>\n",
       "      <th>('Non-Hispanic White, single race', 6, 1200000)</th>\n",
       "      <td>31.590515</td>\n",
       "      <td>3.350811</td>\n",
       "      <td>31.588492</td>\n",
       "      <td>3.350901</td>\n",
       "      <td>36.212652</td>\n",
       "      <td>3.151045</td>\n",
       "    </tr>\n",
       "  </tbody>\n",
       "</table>\n",
       "</div>"
      ],
      "text/plain": [
       "                                                  ridge_pred  ridge_rmse  \\\n",
       "input                                                                      \n",
       "('Non-Hispanic Black, single race', -2, -400000)   30.516103    3.350811   \n",
       "('Non-Hispanic Black, single race', 6, 1200000)    34.779337    3.350811   \n",
       "('Non-Hispanic Asian, single race', 10, 2000000)   33.153172    3.350811   \n",
       "('Hispanic or Latino', 4, 800000)                  40.256746    3.350811   \n",
       "('Non-Hispanic White, single race', -2, -400000)   23.021682    3.350811   \n",
       "('Non-Hispanic White, single race', 8, 1600000)    28.350724    3.350811   \n",
       "('Hispanic or Latino', -10, -2000000)              24.072820    3.350811   \n",
       "('Non-Hispanic Asian, single race', -2, -400000)   22.340653    3.350811   \n",
       "('Non-Hispanic White, single race', 6, 1200000)    31.590515    3.350811   \n",
       "\n",
       "                                                  lasso_pred  lasso_rmse  \\\n",
       "input                                                                      \n",
       "('Non-Hispanic Black, single race', -2, -400000)   30.506410    3.350901   \n",
       "('Non-Hispanic Black, single race', 6, 1200000)    34.744676    3.350901   \n",
       "('Non-Hispanic Asian, single race', 10, 2000000)   33.126719    3.350901   \n",
       "('Hispanic or Latino', 4, 800000)                  40.213854    3.350901   \n",
       "('Non-Hispanic White, single race', -2, -400000)   23.058787    3.350901   \n",
       "('Non-Hispanic White, single race', 8, 1600000)    28.356619    3.350901   \n",
       "('Hispanic or Latino', -10, -2000000)              24.101876    3.350901   \n",
       "('Non-Hispanic Asian, single race', -2, -400000)   22.365746    3.350901   \n",
       "('Non-Hispanic White, single race', 6, 1200000)    31.588492    3.350901   \n",
       "\n",
       "                                                  random_forest_pred  \\\n",
       "input                                                                  \n",
       "('Non-Hispanic Black, single race', -2, -400000)           28.765230   \n",
       "('Non-Hispanic Black, single race', 6, 1200000)            34.786309   \n",
       "('Non-Hispanic Asian, single race', 10, 2000000)           32.566949   \n",
       "('Hispanic or Latino', 4, 800000)                          34.600973   \n",
       "('Non-Hispanic White, single race', -2, -400000)           24.094638   \n",
       "('Non-Hispanic White, single race', 8, 1600000)            29.230060   \n",
       "('Hispanic or Latino', -10, -2000000)                      25.915288   \n",
       "('Non-Hispanic Asian, single race', -2, -400000)           20.473543   \n",
       "('Non-Hispanic White, single race', 6, 1200000)            36.212652   \n",
       "\n",
       "                                                  random_forest_rmse  \n",
       "input                                                                 \n",
       "('Non-Hispanic Black, single race', -2, -400000)            3.150574  \n",
       "('Non-Hispanic Black, single race', 6, 1200000)             3.151277  \n",
       "('Non-Hispanic Asian, single race', 10, 2000000)            3.151361  \n",
       "('Hispanic or Latino', 4, 800000)                           3.151613  \n",
       "('Non-Hispanic White, single race', -2, -400000)            3.151390  \n",
       "('Non-Hispanic White, single race', 8, 1600000)             3.151046  \n",
       "('Hispanic or Latino', -10, -2000000)                       3.151700  \n",
       "('Non-Hispanic Asian, single race', -2, -400000)            3.150660  \n",
       "('Non-Hispanic White, single race', 6, 1200000)             3.151045  "
      ]
     },
     "execution_count": 84,
     "metadata": {},
     "output_type": "execute_result"
    }
   ],
   "source": [
    "final.head(9)"
   ]
  },
  {
   "cell_type": "code",
   "execution_count": 83,
   "id": "8c5d2708",
   "metadata": {},
   "outputs": [],
   "source": [
    "final.to_csv('prediction.csv')"
   ]
  },
  {
   "cell_type": "markdown",
   "id": "f11fdb12",
   "metadata": {},
   "source": [
    "# Summary:\n",
    "\n",
    "In this modeling step I performed regression with the following methods: OLS regression, Ridge Regression, Lasso Regression, Random Forest Regression, K Neigbors Regression, and Deep Neural Network regression model as well.\n",
    "\n",
    "Throughout the notebook testing, I found that the Ridge, Lasso, and Random Forest Regression performed the best consistently on the test data, and because of this these models were used in the final prediction function: mental health toll.  Ridge and Lasso, because they use dimension reduction, were probably very effective at producing a regression line that decreased weights optimally for the useless features.  And the random forest regression uses a bagging ensemble tactic, where many estimators are averaged together to construct a decision tree for the regression; the averageness most likely helped the model perform relativlely well.\n",
    "\n",
    "All things said, all of the models besides the ordinary least squares alogrithm were close in R squared and root mean squared values to each other.  Since the results were so close across the board, and no machine learning models was able to crack into .9 R squared value, there might be an indication that there is a lack of data for this specific question.  \n",
    "\n",
    "Most likely information on mental health during other economic/health crises would be quite useful in strengthening this model, perhaps that would be enough to increase performance.\n",
    "\n",
    "According to the predictions:\n",
    "\n",
    "Hispanic and Black predictions seem to be the most influenced by the employment rate change (positive numbers indicated an increase in unemployment rate) as seen in the model with score variations from 40s to 20s (40s would indicate most likely serious anxiet and depression, 30s would indicate either serious anxiety or depression, with the other being mild, and 20s is closer to average score with acute stress ongoing in the person's life).  White scores are pretty close to high 20s and low 30s despite the big changes, and the Asian scores are usually around low 20s.\n",
    "\n"
   ]
  },
  {
   "cell_type": "code",
   "execution_count": null,
   "id": "2412f510",
   "metadata": {},
   "outputs": [],
   "source": []
  }
 ],
 "metadata": {
  "kernelspec": {
   "display_name": "Python 3 (ipykernel)",
   "language": "python",
   "name": "python3"
  },
  "language_info": {
   "codemirror_mode": {
    "name": "ipython",
    "version": 3
   },
   "file_extension": ".py",
   "mimetype": "text/x-python",
   "name": "python",
   "nbconvert_exporter": "python",
   "pygments_lexer": "ipython3",
   "version": "3.11.7"
  }
 },
 "nbformat": 4,
 "nbformat_minor": 5
}
